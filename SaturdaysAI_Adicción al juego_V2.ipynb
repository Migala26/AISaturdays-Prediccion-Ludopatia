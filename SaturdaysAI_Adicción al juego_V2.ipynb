{
 "cells": [
  {
   "cell_type": "code",
   "execution_count": 1,
   "metadata": {},
   "outputs": [],
   "source": [
    "################# SATURDAYSAI #################\n",
    "### Importación de las librerías necesarias ###\n",
    "###############################################\n",
    "import pandas as pd\n",
    "import numpy as np\n",
    "import matplotlib.pyplot as plt\n",
    "import seaborn as sns\n",
    "\n",
    "from sklearn.ensemble import RandomForestClassifier\n",
    "from sklearn import metrics\n",
    "from sklearn import svm\n",
    "from sklearn.metrics import confusion_matrix\n",
    "from sklearn.metrics import classification_report\n",
    "from sklearn.model_selection import train_test_split, cross_val_score, GridSearchCV\n",
    "from sklearn.linear_model import LogisticRegression\n",
    "from sklearn.decomposition import PCA\n",
    "from sklearn.tree import DecisionTreeClassifier\n",
    "from sklearn.preprocessing import StandardScaler\n",
    "\n",
    "from pylab import rcParams\n",
    "\n",
    "from imblearn.under_sampling import NearMiss\n",
    "from imblearn.over_sampling import RandomOverSampler\n",
    "from imblearn.combine import SMOTETomek\n",
    "from imblearn.ensemble import BalancedBaggingClassifier\n",
    "from collections import Counter\n",
    "\n",
    "rcParams['figure.figsize'] = 14, 8.7 # Golden Mean\n",
    "LABELS = [\"1\",\"2\"]\n",
    "\n",
    "from sklearn.naive_bayes import GaussianNB\n",
    "from sklearn.feature_selection import SelectKBest\n",
    "\n",
    "%matplotlib inline"
   ]
  },
  {
   "cell_type": "markdown",
   "metadata": {},
   "source": [
    "# Carga de datos"
   ]
  },
  {
   "cell_type": "code",
   "execution_count": 2,
   "metadata": {},
   "outputs": [],
   "source": [
    "### Importación de la Base de datos ###\n",
    "file = \"./EstudioPrevalencia2015.xlsx\"\n",
    "xl = pd.ExcelFile(file)"
   ]
  },
  {
   "cell_type": "code",
   "execution_count": 3,
   "metadata": {},
   "outputs": [
    {
     "name": "stdout",
     "output_type": "stream",
     "text": [
      "['Hoja1', 'BBDD fichero total', 'títulos y códigos']\n"
     ]
    }
   ],
   "source": [
    "print(xl.sheet_names)"
   ]
  },
  {
   "cell_type": "code",
   "execution_count": 4,
   "metadata": {},
   "outputs": [],
   "source": [
    "df=xl.parse('BBDD fichero total')"
   ]
  },
  {
   "cell_type": "code",
   "execution_count": 5,
   "metadata": {},
   "outputs": [
    {
     "data": {
      "text/html": [
       "<div>\n",
       "<style scoped>\n",
       "    .dataframe tbody tr th:only-of-type {\n",
       "        vertical-align: middle;\n",
       "    }\n",
       "\n",
       "    .dataframe tbody tr th {\n",
       "        vertical-align: top;\n",
       "    }\n",
       "\n",
       "    .dataframe thead th {\n",
       "        text-align: right;\n",
       "    }\n",
       "</style>\n",
       "<table border=\"1\" class=\"dataframe\">\n",
       "  <thead>\n",
       "    <tr style=\"text-align: right;\">\n",
       "      <th></th>\n",
       "      <th>numero</th>\n",
       "      <th>modalidad</th>\n",
       "      <th>P0R1</th>\n",
       "      <th>P0B</th>\n",
       "      <th>POB1</th>\n",
       "      <th>P0B2</th>\n",
       "      <th>P0C</th>\n",
       "      <th>P0F1</th>\n",
       "      <th>POF2</th>\n",
       "      <th>POF3</th>\n",
       "      <th>...</th>\n",
       "      <th>DB4</th>\n",
       "      <th>DB5</th>\n",
       "      <th>DB6</th>\n",
       "      <th>DB6B</th>\n",
       "      <th>DB7</th>\n",
       "      <th>DB8</th>\n",
       "      <th>PESO</th>\n",
       "      <th>PESO1</th>\n",
       "      <th>revisadas_personales</th>\n",
       "      <th>revisadas_telefónicas</th>\n",
       "    </tr>\n",
       "  </thead>\n",
       "  <tbody>\n",
       "    <tr>\n",
       "      <th>0</th>\n",
       "      <td>1006</td>\n",
       "      <td>1</td>\n",
       "      <td>9</td>\n",
       "      <td>4</td>\n",
       "      <td>4</td>\n",
       "      <td>32</td>\n",
       "      <td>1</td>\n",
       "      <td>1</td>\n",
       "      <td>1.0</td>\n",
       "      <td>2.0</td>\n",
       "      <td>...</td>\n",
       "      <td>4</td>\n",
       "      <td>2</td>\n",
       "      <td>2</td>\n",
       "      <td>NaN</td>\n",
       "      <td>1</td>\n",
       "      <td>3</td>\n",
       "      <td>1.128607</td>\n",
       "      <td>1.128607</td>\n",
       "      <td>NaN</td>\n",
       "      <td>NaN</td>\n",
       "    </tr>\n",
       "    <tr>\n",
       "      <th>1</th>\n",
       "      <td>1007</td>\n",
       "      <td>1</td>\n",
       "      <td>3</td>\n",
       "      <td>5</td>\n",
       "      <td>6</td>\n",
       "      <td>52</td>\n",
       "      <td>1</td>\n",
       "      <td>1</td>\n",
       "      <td>1.0</td>\n",
       "      <td>2.0</td>\n",
       "      <td>...</td>\n",
       "      <td>5</td>\n",
       "      <td>1</td>\n",
       "      <td>1</td>\n",
       "      <td>NaN</td>\n",
       "      <td>1</td>\n",
       "      <td>1</td>\n",
       "      <td>1.100234</td>\n",
       "      <td>1.100234</td>\n",
       "      <td>NaN</td>\n",
       "      <td>NaN</td>\n",
       "    </tr>\n",
       "    <tr>\n",
       "      <th>2</th>\n",
       "      <td>1008</td>\n",
       "      <td>1</td>\n",
       "      <td>4</td>\n",
       "      <td>5</td>\n",
       "      <td>8</td>\n",
       "      <td>67</td>\n",
       "      <td>2</td>\n",
       "      <td>1</td>\n",
       "      <td>1.0</td>\n",
       "      <td>2.0</td>\n",
       "      <td>...</td>\n",
       "      <td>100</td>\n",
       "      <td>4</td>\n",
       "      <td>5</td>\n",
       "      <td>NaN</td>\n",
       "      <td>1</td>\n",
       "      <td>4</td>\n",
       "      <td>1.196041</td>\n",
       "      <td>1.196041</td>\n",
       "      <td>NaN</td>\n",
       "      <td>NaN</td>\n",
       "    </tr>\n",
       "    <tr>\n",
       "      <th>3</th>\n",
       "      <td>1009</td>\n",
       "      <td>1</td>\n",
       "      <td>5</td>\n",
       "      <td>5</td>\n",
       "      <td>7</td>\n",
       "      <td>60</td>\n",
       "      <td>2</td>\n",
       "      <td>1</td>\n",
       "      <td>1.0</td>\n",
       "      <td>2.0</td>\n",
       "      <td>...</td>\n",
       "      <td>100</td>\n",
       "      <td>2</td>\n",
       "      <td>3</td>\n",
       "      <td>NaN</td>\n",
       "      <td>1</td>\n",
       "      <td>3</td>\n",
       "      <td>1.062141</td>\n",
       "      <td>1.062141</td>\n",
       "      <td>NaN</td>\n",
       "      <td>NaN</td>\n",
       "    </tr>\n",
       "    <tr>\n",
       "      <th>4</th>\n",
       "      <td>1010</td>\n",
       "      <td>1</td>\n",
       "      <td>5</td>\n",
       "      <td>5</td>\n",
       "      <td>6</td>\n",
       "      <td>51</td>\n",
       "      <td>2</td>\n",
       "      <td>1</td>\n",
       "      <td>1.0</td>\n",
       "      <td>2.0</td>\n",
       "      <td>...</td>\n",
       "      <td>5</td>\n",
       "      <td>2</td>\n",
       "      <td>3</td>\n",
       "      <td>NaN</td>\n",
       "      <td>1</td>\n",
       "      <td>3</td>\n",
       "      <td>1.062141</td>\n",
       "      <td>1.062141</td>\n",
       "      <td>NaN</td>\n",
       "      <td>1.0</td>\n",
       "    </tr>\n",
       "    <tr>\n",
       "      <th>5</th>\n",
       "      <td>1011</td>\n",
       "      <td>1</td>\n",
       "      <td>5</td>\n",
       "      <td>5</td>\n",
       "      <td>3</td>\n",
       "      <td>18</td>\n",
       "      <td>1</td>\n",
       "      <td>1</td>\n",
       "      <td>1.0</td>\n",
       "      <td>2.0</td>\n",
       "      <td>...</td>\n",
       "      <td>2</td>\n",
       "      <td>99</td>\n",
       "      <td>1</td>\n",
       "      <td>NaN</td>\n",
       "      <td>1</td>\n",
       "      <td>3</td>\n",
       "      <td>1.062141</td>\n",
       "      <td>1.062141</td>\n",
       "      <td>NaN</td>\n",
       "      <td>NaN</td>\n",
       "    </tr>\n",
       "    <tr>\n",
       "      <th>6</th>\n",
       "      <td>1012</td>\n",
       "      <td>1</td>\n",
       "      <td>5</td>\n",
       "      <td>5</td>\n",
       "      <td>4</td>\n",
       "      <td>27</td>\n",
       "      <td>2</td>\n",
       "      <td>1</td>\n",
       "      <td>1.0</td>\n",
       "      <td>1.0</td>\n",
       "      <td>...</td>\n",
       "      <td>4</td>\n",
       "      <td>1</td>\n",
       "      <td>1</td>\n",
       "      <td>NaN</td>\n",
       "      <td>1</td>\n",
       "      <td>3</td>\n",
       "      <td>0.720738</td>\n",
       "      <td>0.753777</td>\n",
       "      <td>NaN</td>\n",
       "      <td>NaN</td>\n",
       "    </tr>\n",
       "    <tr>\n",
       "      <th>7</th>\n",
       "      <td>1013</td>\n",
       "      <td>1</td>\n",
       "      <td>5</td>\n",
       "      <td>5</td>\n",
       "      <td>4</td>\n",
       "      <td>34</td>\n",
       "      <td>2</td>\n",
       "      <td>1</td>\n",
       "      <td>1.0</td>\n",
       "      <td>2.0</td>\n",
       "      <td>...</td>\n",
       "      <td>100</td>\n",
       "      <td>2</td>\n",
       "      <td>2</td>\n",
       "      <td>NaN</td>\n",
       "      <td>1</td>\n",
       "      <td>2</td>\n",
       "      <td>1.062141</td>\n",
       "      <td>1.062141</td>\n",
       "      <td>NaN</td>\n",
       "      <td>NaN</td>\n",
       "    </tr>\n",
       "    <tr>\n",
       "      <th>8</th>\n",
       "      <td>1014</td>\n",
       "      <td>1</td>\n",
       "      <td>5</td>\n",
       "      <td>5</td>\n",
       "      <td>7</td>\n",
       "      <td>62</td>\n",
       "      <td>1</td>\n",
       "      <td>1</td>\n",
       "      <td>2.0</td>\n",
       "      <td>NaN</td>\n",
       "      <td>...</td>\n",
       "      <td>100</td>\n",
       "      <td>2</td>\n",
       "      <td>3</td>\n",
       "      <td>NaN</td>\n",
       "      <td>1</td>\n",
       "      <td>2</td>\n",
       "      <td>1.062141</td>\n",
       "      <td>1.062141</td>\n",
       "      <td>NaN</td>\n",
       "      <td>NaN</td>\n",
       "    </tr>\n",
       "    <tr>\n",
       "      <th>9</th>\n",
       "      <td>1015</td>\n",
       "      <td>1</td>\n",
       "      <td>9</td>\n",
       "      <td>1</td>\n",
       "      <td>4</td>\n",
       "      <td>34</td>\n",
       "      <td>2</td>\n",
       "      <td>2</td>\n",
       "      <td>NaN</td>\n",
       "      <td>NaN</td>\n",
       "      <td>...</td>\n",
       "      <td>6</td>\n",
       "      <td>2</td>\n",
       "      <td>2</td>\n",
       "      <td>NaN</td>\n",
       "      <td>1</td>\n",
       "      <td>2</td>\n",
       "      <td>1.128607</td>\n",
       "      <td>1.128607</td>\n",
       "      <td>NaN</td>\n",
       "      <td>1.0</td>\n",
       "    </tr>\n",
       "  </tbody>\n",
       "</table>\n",
       "<p>10 rows × 240 columns</p>\n",
       "</div>"
      ],
      "text/plain": [
       "   numero  modalidad  P0R1  P0B  POB1  P0B2  P0C  P0F1  POF2  POF3  ...  DB4  \\\n",
       "0    1006          1     9    4     4    32    1     1   1.0   2.0  ...    4   \n",
       "1    1007          1     3    5     6    52    1     1   1.0   2.0  ...    5   \n",
       "2    1008          1     4    5     8    67    2     1   1.0   2.0  ...  100   \n",
       "3    1009          1     5    5     7    60    2     1   1.0   2.0  ...  100   \n",
       "4    1010          1     5    5     6    51    2     1   1.0   2.0  ...    5   \n",
       "5    1011          1     5    5     3    18    1     1   1.0   2.0  ...    2   \n",
       "6    1012          1     5    5     4    27    2     1   1.0   1.0  ...    4   \n",
       "7    1013          1     5    5     4    34    2     1   1.0   2.0  ...  100   \n",
       "8    1014          1     5    5     7    62    1     1   2.0   NaN  ...  100   \n",
       "9    1015          1     9    1     4    34    2     2   NaN   NaN  ...    6   \n",
       "\n",
       "   DB5  DB6  DB6B  DB7  DB8      PESO     PESO1  revisadas_personales  \\\n",
       "0    2    2   NaN    1    3  1.128607  1.128607                   NaN   \n",
       "1    1    1   NaN    1    1  1.100234  1.100234                   NaN   \n",
       "2    4    5   NaN    1    4  1.196041  1.196041                   NaN   \n",
       "3    2    3   NaN    1    3  1.062141  1.062141                   NaN   \n",
       "4    2    3   NaN    1    3  1.062141  1.062141                   NaN   \n",
       "5   99    1   NaN    1    3  1.062141  1.062141                   NaN   \n",
       "6    1    1   NaN    1    3  0.720738  0.753777                   NaN   \n",
       "7    2    2   NaN    1    2  1.062141  1.062141                   NaN   \n",
       "8    2    3   NaN    1    2  1.062141  1.062141                   NaN   \n",
       "9    2    2   NaN    1    2  1.128607  1.128607                   NaN   \n",
       "\n",
       "   revisadas_telefónicas  \n",
       "0                    NaN  \n",
       "1                    NaN  \n",
       "2                    NaN  \n",
       "3                    NaN  \n",
       "4                    1.0  \n",
       "5                    NaN  \n",
       "6                    NaN  \n",
       "7                    NaN  \n",
       "8                    NaN  \n",
       "9                    1.0  \n",
       "\n",
       "[10 rows x 240 columns]"
      ]
     },
     "execution_count": 5,
     "metadata": {},
     "output_type": "execute_result"
    }
   ],
   "source": [
    "# for column in df.columns:\n",
    "#     print(str(column))\n",
    "df.head(10)"
   ]
  },
  {
   "cell_type": "code",
   "execution_count": 6,
   "metadata": {},
   "outputs": [
    {
     "data": {
      "text/html": [
       "<div>\n",
       "<style scoped>\n",
       "    .dataframe tbody tr th:only-of-type {\n",
       "        vertical-align: middle;\n",
       "    }\n",
       "\n",
       "    .dataframe tbody tr th {\n",
       "        vertical-align: top;\n",
       "    }\n",
       "\n",
       "    .dataframe thead th {\n",
       "        text-align: right;\n",
       "    }\n",
       "</style>\n",
       "<table border=\"1\" class=\"dataframe\">\n",
       "  <thead>\n",
       "    <tr style=\"text-align: right;\">\n",
       "      <th></th>\n",
       "      <th>numero</th>\n",
       "      <th>modalidad</th>\n",
       "      <th>P0R1</th>\n",
       "      <th>P0B</th>\n",
       "      <th>POB1</th>\n",
       "      <th>P0B2</th>\n",
       "      <th>P0C</th>\n",
       "      <th>P0F1</th>\n",
       "      <th>POF2</th>\n",
       "      <th>POF3</th>\n",
       "      <th>...</th>\n",
       "      <th>DB4</th>\n",
       "      <th>DB5</th>\n",
       "      <th>DB6</th>\n",
       "      <th>DB6B</th>\n",
       "      <th>DB7</th>\n",
       "      <th>DB8</th>\n",
       "      <th>PESO</th>\n",
       "      <th>PESO1</th>\n",
       "      <th>revisadas_personales</th>\n",
       "      <th>revisadas_telefónicas</th>\n",
       "    </tr>\n",
       "  </thead>\n",
       "  <tbody>\n",
       "    <tr>\n",
       "      <th>count</th>\n",
       "      <td>6816.000000</td>\n",
       "      <td>6816.0</td>\n",
       "      <td>6816.000000</td>\n",
       "      <td>6816.000000</td>\n",
       "      <td>6816.000000</td>\n",
       "      <td>6816.000000</td>\n",
       "      <td>6816.000000</td>\n",
       "      <td>6816.000000</td>\n",
       "      <td>5202.000000</td>\n",
       "      <td>4669.000000</td>\n",
       "      <td>...</td>\n",
       "      <td>6816.000000</td>\n",
       "      <td>6816.000000</td>\n",
       "      <td>6816.000000</td>\n",
       "      <td>149.000000</td>\n",
       "      <td>6816.000000</td>\n",
       "      <td>6816.000000</td>\n",
       "      <td>6816.000000</td>\n",
       "      <td>6816.000000</td>\n",
       "      <td>660.0</td>\n",
       "      <td>1307.0</td>\n",
       "    </tr>\n",
       "    <tr>\n",
       "      <th>mean</th>\n",
       "      <td>4577.223738</td>\n",
       "      <td>1.0</td>\n",
       "      <td>8.456719</td>\n",
       "      <td>3.571156</td>\n",
       "      <td>5.777142</td>\n",
       "      <td>47.907864</td>\n",
       "      <td>1.516432</td>\n",
       "      <td>1.236796</td>\n",
       "      <td>1.102461</td>\n",
       "      <td>1.911544</td>\n",
       "      <td>...</td>\n",
       "      <td>39.057072</td>\n",
       "      <td>2.367811</td>\n",
       "      <td>2.843603</td>\n",
       "      <td>5.993289</td>\n",
       "      <td>1.098005</td>\n",
       "      <td>2.488116</td>\n",
       "      <td>1.050457</td>\n",
       "      <td>1.046409</td>\n",
       "      <td>1.0</td>\n",
       "      <td>1.0</td>\n",
       "    </tr>\n",
       "    <tr>\n",
       "      <th>std</th>\n",
       "      <td>2076.015852</td>\n",
       "      <td>0.0</td>\n",
       "      <td>4.826821</td>\n",
       "      <td>1.763138</td>\n",
       "      <td>1.626472</td>\n",
       "      <td>17.571003</td>\n",
       "      <td>0.499767</td>\n",
       "      <td>0.425147</td>\n",
       "      <td>0.303282</td>\n",
       "      <td>0.283987</td>\n",
       "      <td>...</td>\n",
       "      <td>46.042025</td>\n",
       "      <td>6.428943</td>\n",
       "      <td>6.887837</td>\n",
       "      <td>1.646030</td>\n",
       "      <td>2.087890</td>\n",
       "      <td>7.864340</td>\n",
       "      <td>0.181920</td>\n",
       "      <td>0.182712</td>\n",
       "      <td>0.0</td>\n",
       "      <td>0.0</td>\n",
       "    </tr>\n",
       "    <tr>\n",
       "      <th>min</th>\n",
       "      <td>1006.000000</td>\n",
       "      <td>1.0</td>\n",
       "      <td>1.000000</td>\n",
       "      <td>1.000000</td>\n",
       "      <td>3.000000</td>\n",
       "      <td>18.000000</td>\n",
       "      <td>1.000000</td>\n",
       "      <td>1.000000</td>\n",
       "      <td>1.000000</td>\n",
       "      <td>1.000000</td>\n",
       "      <td>...</td>\n",
       "      <td>1.000000</td>\n",
       "      <td>1.000000</td>\n",
       "      <td>1.000000</td>\n",
       "      <td>5.000000</td>\n",
       "      <td>1.000000</td>\n",
       "      <td>0.000000</td>\n",
       "      <td>0.175572</td>\n",
       "      <td>0.131613</td>\n",
       "      <td>1.0</td>\n",
       "      <td>1.0</td>\n",
       "    </tr>\n",
       "    <tr>\n",
       "      <th>25%</th>\n",
       "      <td>2777.750000</td>\n",
       "      <td>1.0</td>\n",
       "      <td>5.000000</td>\n",
       "      <td>2.000000</td>\n",
       "      <td>4.000000</td>\n",
       "      <td>34.000000</td>\n",
       "      <td>1.000000</td>\n",
       "      <td>1.000000</td>\n",
       "      <td>1.000000</td>\n",
       "      <td>2.000000</td>\n",
       "      <td>...</td>\n",
       "      <td>4.000000</td>\n",
       "      <td>1.000000</td>\n",
       "      <td>1.000000</td>\n",
       "      <td>5.000000</td>\n",
       "      <td>1.000000</td>\n",
       "      <td>1.000000</td>\n",
       "      <td>1.082998</td>\n",
       "      <td>1.082998</td>\n",
       "      <td>1.0</td>\n",
       "      <td>1.0</td>\n",
       "    </tr>\n",
       "    <tr>\n",
       "      <th>50%</th>\n",
       "      <td>4565.500000</td>\n",
       "      <td>1.0</td>\n",
       "      <td>9.000000</td>\n",
       "      <td>4.000000</td>\n",
       "      <td>6.000000</td>\n",
       "      <td>46.000000</td>\n",
       "      <td>2.000000</td>\n",
       "      <td>1.000000</td>\n",
       "      <td>1.000000</td>\n",
       "      <td>2.000000</td>\n",
       "      <td>...</td>\n",
       "      <td>5.000000</td>\n",
       "      <td>2.000000</td>\n",
       "      <td>2.000000</td>\n",
       "      <td>5.000000</td>\n",
       "      <td>1.000000</td>\n",
       "      <td>2.000000</td>\n",
       "      <td>1.107651</td>\n",
       "      <td>1.107651</td>\n",
       "      <td>1.0</td>\n",
       "      <td>1.0</td>\n",
       "    </tr>\n",
       "    <tr>\n",
       "      <th>75%</th>\n",
       "      <td>6359.250000</td>\n",
       "      <td>1.0</td>\n",
       "      <td>13.000000</td>\n",
       "      <td>5.000000</td>\n",
       "      <td>7.000000</td>\n",
       "      <td>62.000000</td>\n",
       "      <td>2.000000</td>\n",
       "      <td>1.000000</td>\n",
       "      <td>1.000000</td>\n",
       "      <td>2.000000</td>\n",
       "      <td>...</td>\n",
       "      <td>100.000000</td>\n",
       "      <td>2.000000</td>\n",
       "      <td>3.000000</td>\n",
       "      <td>7.000000</td>\n",
       "      <td>1.000000</td>\n",
       "      <td>3.000000</td>\n",
       "      <td>1.115778</td>\n",
       "      <td>1.115778</td>\n",
       "      <td>1.0</td>\n",
       "      <td>1.0</td>\n",
       "    </tr>\n",
       "    <tr>\n",
       "      <th>max</th>\n",
       "      <td>8240.000000</td>\n",
       "      <td>1.0</td>\n",
       "      <td>19.000000</td>\n",
       "      <td>6.000000</td>\n",
       "      <td>8.000000</td>\n",
       "      <td>95.000000</td>\n",
       "      <td>2.000000</td>\n",
       "      <td>2.000000</td>\n",
       "      <td>2.000000</td>\n",
       "      <td>2.000000</td>\n",
       "      <td>...</td>\n",
       "      <td>100.000000</td>\n",
       "      <td>100.000000</td>\n",
       "      <td>100.000000</td>\n",
       "      <td>16.000000</td>\n",
       "      <td>100.000000</td>\n",
       "      <td>100.000000</td>\n",
       "      <td>1.196041</td>\n",
       "      <td>1.196041</td>\n",
       "      <td>1.0</td>\n",
       "      <td>1.0</td>\n",
       "    </tr>\n",
       "  </tbody>\n",
       "</table>\n",
       "<p>8 rows × 240 columns</p>\n",
       "</div>"
      ],
      "text/plain": [
       "            numero  modalidad         P0R1          P0B         POB1  \\\n",
       "count  6816.000000     6816.0  6816.000000  6816.000000  6816.000000   \n",
       "mean   4577.223738        1.0     8.456719     3.571156     5.777142   \n",
       "std    2076.015852        0.0     4.826821     1.763138     1.626472   \n",
       "min    1006.000000        1.0     1.000000     1.000000     3.000000   \n",
       "25%    2777.750000        1.0     5.000000     2.000000     4.000000   \n",
       "50%    4565.500000        1.0     9.000000     4.000000     6.000000   \n",
       "75%    6359.250000        1.0    13.000000     5.000000     7.000000   \n",
       "max    8240.000000        1.0    19.000000     6.000000     8.000000   \n",
       "\n",
       "              P0B2          P0C         P0F1         POF2         POF3  ...  \\\n",
       "count  6816.000000  6816.000000  6816.000000  5202.000000  4669.000000  ...   \n",
       "mean     47.907864     1.516432     1.236796     1.102461     1.911544  ...   \n",
       "std      17.571003     0.499767     0.425147     0.303282     0.283987  ...   \n",
       "min      18.000000     1.000000     1.000000     1.000000     1.000000  ...   \n",
       "25%      34.000000     1.000000     1.000000     1.000000     2.000000  ...   \n",
       "50%      46.000000     2.000000     1.000000     1.000000     2.000000  ...   \n",
       "75%      62.000000     2.000000     1.000000     1.000000     2.000000  ...   \n",
       "max      95.000000     2.000000     2.000000     2.000000     2.000000  ...   \n",
       "\n",
       "               DB4          DB5          DB6        DB6B          DB7  \\\n",
       "count  6816.000000  6816.000000  6816.000000  149.000000  6816.000000   \n",
       "mean     39.057072     2.367811     2.843603    5.993289     1.098005   \n",
       "std      46.042025     6.428943     6.887837    1.646030     2.087890   \n",
       "min       1.000000     1.000000     1.000000    5.000000     1.000000   \n",
       "25%       4.000000     1.000000     1.000000    5.000000     1.000000   \n",
       "50%       5.000000     2.000000     2.000000    5.000000     1.000000   \n",
       "75%     100.000000     2.000000     3.000000    7.000000     1.000000   \n",
       "max     100.000000   100.000000   100.000000   16.000000   100.000000   \n",
       "\n",
       "               DB8         PESO        PESO1  revisadas_personales  \\\n",
       "count  6816.000000  6816.000000  6816.000000                 660.0   \n",
       "mean      2.488116     1.050457     1.046409                   1.0   \n",
       "std       7.864340     0.181920     0.182712                   0.0   \n",
       "min       0.000000     0.175572     0.131613                   1.0   \n",
       "25%       1.000000     1.082998     1.082998                   1.0   \n",
       "50%       2.000000     1.107651     1.107651                   1.0   \n",
       "75%       3.000000     1.115778     1.115778                   1.0   \n",
       "max     100.000000     1.196041     1.196041                   1.0   \n",
       "\n",
       "       revisadas_telefónicas  \n",
       "count                 1307.0  \n",
       "mean                     1.0  \n",
       "std                      0.0  \n",
       "min                      1.0  \n",
       "25%                      1.0  \n",
       "50%                      1.0  \n",
       "75%                      1.0  \n",
       "max                      1.0  \n",
       "\n",
       "[8 rows x 240 columns]"
      ]
     },
     "execution_count": 6,
     "metadata": {},
     "output_type": "execute_result"
    }
   ],
   "source": [
    "df.describe()"
   ]
  },
  {
   "cell_type": "markdown",
   "metadata": {},
   "source": [
    "# Limpieza de los datos"
   ]
  },
  {
   "cell_type": "code",
   "execution_count": 7,
   "metadata": {},
   "outputs": [],
   "source": [
    "# Declaración de funciones para limpiar el Dataframe\n",
    "\n",
    "def change_99_100(x):\n",
    "    if (type(x) == int or type(x) == float) and x >= 99.0:\n",
    "      return None\n",
    "    else :\n",
    "      return x\n",
    "\n",
    "def change_column_P23(x):\n",
    "    if (type(x) == int or type(x) == float) and x >= 2.0:\n",
    "      return 2\n",
    "    else :\n",
    "      return 1\n",
    "\n",
    "def cleanDataset(df):\n",
    "  print(\"Tamaño del dataframe antes de limpieza \", df.shape)\n",
    "\n",
    "  new_df = df[df['P23'] <= 3]\n",
    "  print(\"Eliminadas filas que no han contestado a la variable objetivo \", new_df.shape )\n",
    "\n",
    "  new_df = new_df.apply(change_99_100)\n",
    "  print(\"Eliminados los valores de 99 o 100\", new_df.shape)\n",
    "\n",
    "  new_df['P23'] = new_df['P23'].apply(change_column_P23)\n",
    "  print(\"Unificados Valores de P23 2 y 3 en solo 2\", new_df.shape)\n",
    "\n",
    "  new_df = new_df.dropna(axis=1, how='any')\n",
    "  print(\"Eliminadas todas las columnas con al menos un valor nulo\", new_df.shape)\n",
    "\n",
    "  new_df = new_df.drop(['numero', 'modalidad'],1)\n",
    "  print(\"Eliminadas columnas que no aportan valor \", new_df.shape)\n",
    "\n",
    "  new_df = new_df[['P0R1','P0B','POB1','P0C','P3','P4','P5','P6','P7','P8','P9','P11',\n",
    "                   'P13','P15A','P16A','P18A','P18B','P18C','P20','P20','P22','P24','P26',\n",
    "                   'P28','P29','P30','P31','P32','P33','P34','P35','P38SP1','P38SP2',\n",
    "                   'P38SP3','P38SP4','P38SP5','P38SP6','P38SP7','P38SP8','P38SP9',\n",
    "                   'P39','P41','P43','P46','DB0','DB1','DB3','DB4','DB5','DB6','DB7','DB8', 'P23'\n",
    "                  ]]\n",
    "  print(\"Después del análisis del investigador dejamos las columnas más interesantes \", new_df.shape)\n",
    "\n",
    "  return new_df"
   ]
  },
  {
   "cell_type": "code",
   "execution_count": 8,
   "metadata": {},
   "outputs": [
    {
     "name": "stdout",
     "output_type": "stream",
     "text": [
      "Tamaño del dataframe antes de limpieza  (6816, 240)\n",
      "Eliminadas filas que no han contestado a la variable objetivo  (5159, 240)\n",
      "Eliminados los valores de 99 o 100 (5159, 240)\n",
      "Unificados Valores de P23 2 y 3 en solo 2 (5159, 240)\n",
      "Eliminadas todas las columnas con al menos un valor nulo (5159, 127)\n",
      "Eliminadas columnas que no aportan valor  (5159, 125)\n",
      "Después del análisis del investigador dejamos las columnas más interesantes  (5159, 53)\n",
      "<class 'pandas.core.frame.DataFrame'>\n",
      "<class 'pandas.core.frame.DataFrame'>\n"
     ]
    }
   ],
   "source": [
    "new_df = cleanDataset(df)\n",
    "# new_df.describe()\n",
    "print(type(new_df))\n",
    "print(type(df))\n",
    "# Variables del experto ya eliminadas previamente\n",
    "# df[['P50', 'DB2', 'P47', 'P38SP10', 'POF3']].describe()"
   ]
  },
  {
   "cell_type": "code",
   "execution_count": null,
   "metadata": {},
   "outputs": [],
   "source": [
    "### Número de valores únicos en cada columna ###\n",
    "# print(new_df.nunique())"
   ]
  },
  {
   "cell_type": "markdown",
   "metadata": {},
   "source": [
    "# Análisis estadístico"
   ]
  },
  {
   "cell_type": "code",
   "execution_count": null,
   "metadata": {},
   "outputs": [],
   "source": [
    "new_df.columns"
   ]
  },
  {
   "cell_type": "code",
   "execution_count": null,
   "metadata": {},
   "outputs": [],
   "source": [
    "### Variable Objetivo ###\n",
    "plot= new_df['P23'].value_counts().plot(kind='barh', title=\"Variable objetivo\") "
   ]
  },
  {
   "cell_type": "code",
   "execution_count": null,
   "metadata": {},
   "outputs": [],
   "source": [
    "### Tabla Variable objetivo - Comunidad autónoma ###\n",
    "pd.crosstab(new_df['P23'], new_df['P0R1'], margins=True)\n"
   ]
  },
  {
   "cell_type": "code",
   "execution_count": null,
   "metadata": {},
   "outputs": [],
   "source": [
    "sns.set()\n",
    "%config InlineBackend.figure_format='retina'\n",
    "sns.countplot(x='P0R1', hue='P23', data=new_df);"
   ]
  },
  {
   "cell_type": "code",
   "execution_count": null,
   "metadata": {},
   "outputs": [],
   "source": [
    "new_df['P23'].unique()"
   ]
  },
  {
   "cell_type": "code",
   "execution_count": null,
   "metadata": {},
   "outputs": [],
   "source": [
    "### Histograma de la edad ###\n",
    "sns.distplot(new_df['POB1'])"
   ]
  },
  {
   "cell_type": "code",
   "execution_count": null,
   "metadata": {},
   "outputs": [],
   "source": [
    "### Histograma ###\n",
    "log_edad = np.log(new_df['POB1'])\n",
    "plt.hist(log_edad)"
   ]
  },
  {
   "cell_type": "code",
   "execution_count": null,
   "metadata": {},
   "outputs": [],
   "source": [
    "### Histograma del sexo ###\n",
    "sns.distplot(new_df['P0C'])"
   ]
  },
  {
   "cell_type": "code",
   "execution_count": null,
   "metadata": {},
   "outputs": [],
   "source": [
    "### Histograma Estado de Salud ###\n",
    "sns.distplot(new_df['P28'])"
   ]
  },
  {
   "cell_type": "code",
   "execution_count": null,
   "metadata": {},
   "outputs": [],
   "source": [
    "print(*new_df.columns.to_list(), sep=', ')\n",
    "# print(new_df.columns.to_list())"
   ]
  },
  {
   "cell_type": "code",
   "execution_count": null,
   "metadata": {
    "scrolled": true
   },
   "outputs": [],
   "source": [
    "new_df.dtypes"
   ]
  },
  {
   "cell_type": "code",
   "execution_count": null,
   "metadata": {},
   "outputs": [],
   "source": [
    "new_df=new_df.dropna()"
   ]
  },
  {
   "cell_type": "code",
   "execution_count": null,
   "metadata": {},
   "outputs": [],
   "source": [
    "new_df.describe()"
   ]
  },
  {
   "cell_type": "code",
   "execution_count": null,
   "metadata": {},
   "outputs": [],
   "source": [
    "### Relaciones entre las features ###\n",
    "correlation = new_df.corr()\n",
    "display(correlation)\n",
    "plt.figure(figsize=(14, 12))"
   ]
  },
  {
   "cell_type": "code",
   "execution_count": null,
   "metadata": {},
   "outputs": [],
   "source": [
    "### Relaciones entre las features ###\n",
    "correlation = new_df.corr()\n",
    "display(correlation)\n",
    "plt.figure(figsize=(14, 12))\n",
    "import seaborn as sns\n",
    "heatmap = sns.heatmap(correlation, annot=True, linewidths=0, vmin=-1, cmap=\"RdBu_r\")"
   ]
  },
  {
   "cell_type": "code",
   "execution_count": null,
   "metadata": {},
   "outputs": [],
   "source": [
    "new_df[\"P23\"].value_counts()"
   ]
  },
  {
   "cell_type": "code",
   "execution_count": null,
   "metadata": {},
   "outputs": [],
   "source": [
    "plot= new_df[\"P23\"].value_counts().plot(kind='barh', title=\"Dependiente\") "
   ]
  },
  {
   "cell_type": "markdown",
   "metadata": {},
   "source": [
    "# Creación de los conjuntos de Train y Test"
   ]
  },
  {
   "cell_type": "code",
   "execution_count": null,
   "metadata": {},
   "outputs": [],
   "source": [
    "y = new_df['P23']\n",
    "X = new_df.drop('P23', axis=1)\n",
    "X_train, X_test, y_train, y_test = train_test_split(X, y, train_size=0.7)"
   ]
  },
  {
   "cell_type": "code",
   "execution_count": null,
   "metadata": {},
   "outputs": [],
   "source": [
    "print('X train Shape: ' , X_train.shape, '; Y train Shape: ' , y_train.shape)\n",
    "print('X test Shape: ' , X_test.shape, '; Y test Shape: ' , y_test.shape)"
   ]
  },
  {
   "cell_type": "markdown",
   "metadata": {},
   "source": [
    "# Generación de datos sintéticos"
   ]
  },
  {
   "cell_type": "code",
   "execution_count": null,
   "metadata": {},
   "outputs": [],
   "source": [
    "### Balanceo SMOTE ###\n",
    "from imblearn.combine import SMOTETomek\n",
    "\n",
    "os_us = SMOTETomek()\n",
    "X_train_res, y_train_res = os_us.fit_sample(X_train, y_train)\n",
    "\n",
    "print (\"Distribution of class labels before resampling {}\".format(Counter(y_train)))\n",
    "print (\"Distribution of class labels after resampling {}\".format(Counter(y_train_res)))"
   ]
  },
  {
   "cell_type": "code",
   "execution_count": null,
   "metadata": {},
   "outputs": [],
   "source": [
    "plot= y_train.value_counts().plot(kind='barh', title=\"Clase Objetivo Antes del Balanceo\") "
   ]
  },
  {
   "cell_type": "code",
   "execution_count": null,
   "metadata": {},
   "outputs": [],
   "source": [
    "plot= y_train_res.value_counts().plot(kind='barh', title=\"Clase Objetivo DESPUES del Balanceo\") "
   ]
  },
  {
   "cell_type": "markdown",
   "metadata": {},
   "source": [
    "# Entrenamiento y Evaluación de Modelos"
   ]
  },
  {
   "cell_type": "code",
   "execution_count": null,
   "metadata": {},
   "outputs": [],
   "source": [
    "def mostrar_resultados(y_test, pred_y):\n",
    "    conf_matrix = confusion_matrix(y_test, pred_y)\n",
    "    plt.figure(figsize=(12, 12))\n",
    "    sns.heatmap(conf_matrix, xticklabels=LABELS, yticklabels=LABELS, annot=True, fmt=\"d\");\n",
    "    plt.title(\"Confusion matrix\")\n",
    "    plt.ylabel('True class')\n",
    "    plt.xlabel('Predicted class')\n",
    "    plt.show()\n",
    "    print (classification_report(y_test, pred_y))\n",
    "    \n",
    "#     Modelos de Regresión Lineal\n",
    "def run_Logistic_Regression_model(X_train, X_test, y_train, y_test):\n",
    "    clf_base = LogisticRegression(C=1.0,penalty='l2',random_state=1,solver=\"newton-cg\")\n",
    "    clf_base.fit(X_train, y_train)\n",
    "    return clf_base\n",
    " \n",
    "model = run_Logistic_Regression_model(X_train_res, X_test, y_train_res, y_test)\n",
    "    "
   ]
  },
  {
   "cell_type": "code",
   "execution_count": null,
   "metadata": {},
   "outputs": [],
   "source": [
    "### Random Forest Classifier ###\n",
    "from sklearn.ensemble import RandomForestClassifier\n",
    "from sklearn.metrics import mean_absolute_error\n",
    "\n",
    "def get_mae_rf(num_est, predictors_train, predictors_val, targ_train, targ_val):\n",
    "    \n",
    "    # fitting model with input max_leaf_nodes\n",
    "    model = RandomForestClassifier(n_estimators=num_est, random_state=0,  bootstrap = True,verbose=1,\n",
    "                               max_features = 'sqrt')\n",
    "\n",
    "    # fitting the model with training dataset\n",
    "    model.fit(predictors_train, targ_train)\n",
    "\n",
    "    # making prediction with the test dataset\n",
    "    preds_val = model.predict(predictors_val)\n",
    "\n",
    "    # calculate and return the MAE\n",
    "    mae = mean_absolute_error(targ_val, preds_val)\n",
    "    return(mae)"
   ]
  },
  {
   "cell_type": "code",
   "execution_count": null,
   "metadata": {},
   "outputs": [],
   "source": [
    "plot_mae = {}\n",
    "for num_est  in range(2,50):\n",
    "    my_mae = get_mae_rf(num_est,X_train_res,X_test,y_train_res,y_test)\n",
    "    plot_mae[num_est] = my_mae"
   ]
  },
  {
   "cell_type": "code",
   "execution_count": null,
   "metadata": {},
   "outputs": [],
   "source": [
    "plt.plot(list(plot_mae.keys()),list(plot_mae.values()))\n",
    "plt.show()"
   ]
  },
  {
   "cell_type": "code",
   "execution_count": null,
   "metadata": {},
   "outputs": [],
   "source": [
    " # fitting model with input max_leaf_nodes\n",
    "model = RandomForestClassifier(n_estimators=20, random_state=0,  bootstrap = True,verbose=2,\n",
    "                           max_features = 'sqrt')\n",
    "\n",
    "# fitting the model with training dataset\n",
    "model.fit(X_train, y_train)"
   ]
  },
  {
   "cell_type": "code",
   "execution_count": null,
   "metadata": {},
   "outputs": [],
   "source": [
    "pred_y = model.predict(X_test)\n",
    "mostrar_resultados(y_test, pred_y)"
   ]
  },
  {
   "cell_type": "code",
   "execution_count": null,
   "metadata": {},
   "outputs": [],
   "source": [
    "### Balanceo SMOTE ###\n",
    "\n",
    "os_us = SMOTETomek()\n",
    "X_train_res, y_train_res = os_us.fit_sample(X_train, y_train)\n",
    "\n",
    "print (\"Distribution of class labels before resampling {}\".format(Counter(y_train)))\n",
    "print (\"Distribution of class labels after resampling {}\".format(Counter(y_train_res)))"
   ]
  },
  {
   "cell_type": "code",
   "execution_count": null,
   "metadata": {},
   "outputs": [],
   "source": [
    "plot= y_train.value_counts().plot(kind='barh', title=\"Dependiente\") "
   ]
  },
  {
   "cell_type": "code",
   "execution_count": null,
   "metadata": {},
   "outputs": [],
   "source": [
    "plot= y_train_res.value_counts().plot(kind='barh', title=\"Dependiente\") "
   ]
  },
  {
   "cell_type": "code",
   "execution_count": null,
   "metadata": {},
   "outputs": [],
   "source": [
    "model = run_Logistic_Regression_model(X_train_res, X_test, y_train_res, y_test)"
   ]
  },
  {
   "cell_type": "code",
   "execution_count": null,
   "metadata": {},
   "outputs": [],
   "source": [
    "pred_y = model.predict(X_test)\n",
    "mostrar_resultados(y_test, pred_y)"
   ]
  },
  {
   "cell_type": "markdown",
   "metadata": {},
   "source": [
    "# Análisis de componentes principales (PCA)"
   ]
  },
  {
   "cell_type": "code",
   "execution_count": 9,
   "metadata": {},
   "outputs": [
    {
     "name": "stdout",
     "output_type": "stream",
     "text": [
      "Número total de componentes: 37\n",
      "[10.32197703  5.09383817  4.45455193  4.07165903  3.77674773  3.68736802\n",
      "  3.49635575  3.16863822  2.82092703  2.67906079  2.48364996  2.39464807\n",
      "  2.28832793  2.21729988  2.09135826  2.07085658  1.99844948  1.97994206\n",
      "  1.90939297  1.89870366  1.85706062  1.84095812  1.80287397  1.7256066\n",
      "  1.69433173  1.6364559   1.60964313  1.5362805   1.51187814  1.44678974\n",
      "  1.43081598  1.36872281  1.33026313  1.24928153  1.23295466  1.1644892\n",
      "  1.05179051]\n"
     ]
    }
   ],
   "source": [
    "RANDOM_STATE = 17  # Semilla para generar número aleatorio\n",
    "scaler = StandardScaler()  # Estandarizamos los datos\n",
    "# Seleccionamos el mínimo número de componentes para cubrir el 90% de la varianza:\n",
    "pca = PCA(n_components=0.9, random_state=RANDOM_STATE)\n",
    "\n",
    "scaled_data = scaler.fit_transform(new_df.drop('P23', axis=1))\n",
    "pca.fit(scaled_data)\n",
    "\n",
    "print(\"Número total de componentes: %d\" % pca.n_components_)\n",
    "# Porcentaje de varianza explicado por cada uno de los componentes\n",
    "print(pca.explained_variance_ratio_*100)"
   ]
  },
  {
   "cell_type": "code",
   "execution_count": 10,
   "metadata": {},
   "outputs": [
    {
     "name": "stdout",
     "output_type": "stream",
     "text": [
      "        pc1       pc2       pc3       pc4       pc5       pc6       pc7  \\\n",
      "0  0.938935 -0.768462  0.263686  1.159572 -0.707176  0.012487  0.475219   \n",
      "1 -0.625217 -0.198663  0.398715  0.548223  0.160088  0.067326  0.406352   \n",
      "\n",
      "        pc8       pc9      pc10  ...      pc28      pc29      pc30      pc31  \\\n",
      "0  0.805006 -0.005911 -0.167982  ... -0.511027 -0.477893 -0.243609 -0.248828   \n",
      "1 -1.007707  1.323644 -0.490965  ... -0.530305 -0.167856  0.157312 -0.078725   \n",
      "\n",
      "       pc32      pc33      pc34      pc35      pc36      pc37  \n",
      "0 -0.393905 -1.025826  0.074246  0.238903  0.367816 -0.651075  \n",
      "1 -0.340913  0.019785  0.066501 -0.155731 -0.056547  0.036716  \n",
      "\n",
      "[2 rows x 37 columns]\n"
     ]
    },
    {
     "data": {
      "text/plain": [
       "<matplotlib.collections.PathCollection at 0x1a77ffbe9b0>"
      ]
     },
     "execution_count": 10,
     "metadata": {},
     "output_type": "execute_result"
    },
    {
     "data": {
      "image/png": "[encoded data removed]",
      "text/plain": [
       "<Figure size 432x288 with 1 Axes>"
      ]
     },
     "metadata": {
      "needs_background": "light"
     },
     "output_type": "display_data"
    }
   ],
   "source": [
    "# Generamos un data frame con los Componentes Principales obtenidos\n",
    "columns = [\"pc%d\" % i for i in range(1, pca.n_components_+1)]\n",
    "pca_df = pd.DataFrame(data = pca.transform(scaled_data), columns = columns)\n",
    "print(pca_df.head(2))\n",
    "\n",
    "# Visualizamos la proyección de la variable objetivo en los dos primeros componentes principales\n",
    "plt.scatter(pca_df['pc1'], pca_df['pc2'], c=new_df['P23'].to_numpy(), s=20, cmap='viridis')"
   ]
  }
 ],
 "metadata": {
  "kernelspec": {
   "display_name": "Python 3",
   "language": "python",
   "name": "python3"
  },
  "language_info": {
   "codemirror_mode": {
    "name": "ipython",
    "version": 3
   },
   "file_extension": ".py",
   "mimetype": "text/x-python",
   "name": "python",
   "nbconvert_exporter": "python",
   "pygments_lexer": "ipython3",
   "version": "3.7.3"
  }
 },
 "nbformat": 4,
 "nbformat_minor": 4
}
