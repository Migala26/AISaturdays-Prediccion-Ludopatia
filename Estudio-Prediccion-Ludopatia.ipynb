{
 "cells": [
  {
   "cell_type": "code",
   "execution_count": null,
   "metadata": {
    "colab": {
     "base_uri": "https://localhost:8080/",
     "height": 34
    },
    "colab_type": "code",
    "id": "4nKyvK1LL2Vl",
    "outputId": "990e0b0f-682f-447f-e875-1893d6ab5cf3"
   },
   "outputs": [],
   "source": [
    "from google.colab import drive\n",
    "drive.mount('/content/drive')"
   ]
  },
  {
   "cell_type": "markdown",
   "metadata": {
    "colab_type": "text",
    "id": "v9PPq7FAzwsO"
   },
   "source": [
    "# Nueva sección"
   ]
  },
  {
   "cell_type": "code",
   "execution_count": 1,
   "metadata": {
    "colab": {},
    "colab_type": "code",
    "id": "1oSXa6sKWmHX"
   },
   "outputs": [],
   "source": [
    "### Importación de las librerías necesarias ###\n",
    "###############################################\n",
    "import pandas as pd\n",
    "import numpy as np\n",
    "import matplotlib.pyplot as plt\n",
    "import seaborn as sns\n",
    "\n",
    "# Librería machine learning\n",
    "from sklearn.ensemble import RandomForestClassifier\n",
    "from sklearn import metrics\n",
    "from sklearn import svm\n",
    "from sklearn.metrics import confusion_matrix\n",
    "from sklearn.metrics import classification_report\n",
    "from sklearn.model_selection import train_test_split, cross_val_score, GridSearchCV\n",
    "from sklearn.linear_model import LogisticRegression\n",
    "from sklearn.decomposition import PCA\n",
    "from sklearn.tree import DecisionTreeClassifier\n",
    "from sklearn.naive_bayes import GaussianNB\n",
    "from sklearn.feature_selection import SelectKBest\n",
    "\n",
    "from pylab import rcParams\n",
    "\n",
    "# Librería para datos no balanceados\n",
    "from imblearn.under_sampling import NearMiss\n",
    "from imblearn.over_sampling import RandomOverSampler\n",
    "from imblearn.combine import SMOTETomek\n",
    "from imblearn.ensemble import BalancedBaggingClassifier\n",
    "from collections import Counter\n",
    "\n",
    "%matplotlib inline"
   ]
  },
  {
   "cell_type": "code",
   "execution_count": 2,
   "metadata": {
    "colab": {},
    "colab_type": "code",
    "id": "ipefE7_wLPFW"
   },
   "outputs": [],
   "source": [
    "df = pd.read_excel('EstudioPrevalencia2015.xlsx', 1)"
   ]
  },
  {
   "cell_type": "code",
   "execution_count": 3,
   "metadata": {
    "colab": {
     "base_uri": "https://localhost:8080/",
     "height": 333
    },
    "colab_type": "code",
    "id": "9oOBqpT-LPFg",
    "outputId": "5e0a9e96-088d-4800-ab7a-fcd35ce5a5d5"
   },
   "outputs": [
    {
     "data": {
      "text/html": [
       "<div>\n",
       "<style scoped>\n",
       "    .dataframe tbody tr th:only-of-type {\n",
       "        vertical-align: middle;\n",
       "    }\n",
       "\n",
       "    .dataframe tbody tr th {\n",
       "        vertical-align: top;\n",
       "    }\n",
       "\n",
       "    .dataframe thead th {\n",
       "        text-align: right;\n",
       "    }\n",
       "</style>\n",
       "<table border=\"1\" class=\"dataframe\">\n",
       "  <thead>\n",
       "    <tr style=\"text-align: right;\">\n",
       "      <th></th>\n",
       "      <th>numero</th>\n",
       "      <th>modalidad</th>\n",
       "      <th>P0R1</th>\n",
       "      <th>P0B</th>\n",
       "      <th>POB1</th>\n",
       "      <th>P0B2</th>\n",
       "      <th>P0C</th>\n",
       "      <th>P0F1</th>\n",
       "      <th>POF2</th>\n",
       "      <th>POF3</th>\n",
       "      <th>...</th>\n",
       "      <th>DB4</th>\n",
       "      <th>DB5</th>\n",
       "      <th>DB6</th>\n",
       "      <th>DB6B</th>\n",
       "      <th>DB7</th>\n",
       "      <th>DB8</th>\n",
       "      <th>PESO</th>\n",
       "      <th>PESO1</th>\n",
       "      <th>revisadas_personales</th>\n",
       "      <th>revisadas_telefónicas</th>\n",
       "    </tr>\n",
       "  </thead>\n",
       "  <tbody>\n",
       "    <tr>\n",
       "      <th>count</th>\n",
       "      <td>6816.000000</td>\n",
       "      <td>6816.0</td>\n",
       "      <td>6816.000000</td>\n",
       "      <td>6816.000000</td>\n",
       "      <td>6816.000000</td>\n",
       "      <td>6816.000000</td>\n",
       "      <td>6816.000000</td>\n",
       "      <td>6816.000000</td>\n",
       "      <td>5202.000000</td>\n",
       "      <td>4669.000000</td>\n",
       "      <td>...</td>\n",
       "      <td>6816.000000</td>\n",
       "      <td>6816.000000</td>\n",
       "      <td>6816.000000</td>\n",
       "      <td>149.000000</td>\n",
       "      <td>6816.000000</td>\n",
       "      <td>6816.000000</td>\n",
       "      <td>6816.000000</td>\n",
       "      <td>6816.000000</td>\n",
       "      <td>660.0</td>\n",
       "      <td>1307.0</td>\n",
       "    </tr>\n",
       "    <tr>\n",
       "      <th>mean</th>\n",
       "      <td>4577.223738</td>\n",
       "      <td>1.0</td>\n",
       "      <td>8.456719</td>\n",
       "      <td>3.571156</td>\n",
       "      <td>5.777142</td>\n",
       "      <td>47.907864</td>\n",
       "      <td>1.516432</td>\n",
       "      <td>1.236796</td>\n",
       "      <td>1.102461</td>\n",
       "      <td>1.911544</td>\n",
       "      <td>...</td>\n",
       "      <td>39.057072</td>\n",
       "      <td>2.367811</td>\n",
       "      <td>2.843603</td>\n",
       "      <td>5.993289</td>\n",
       "      <td>1.098005</td>\n",
       "      <td>2.488116</td>\n",
       "      <td>1.050457</td>\n",
       "      <td>1.046409</td>\n",
       "      <td>1.0</td>\n",
       "      <td>1.0</td>\n",
       "    </tr>\n",
       "    <tr>\n",
       "      <th>std</th>\n",
       "      <td>2076.015852</td>\n",
       "      <td>0.0</td>\n",
       "      <td>4.826821</td>\n",
       "      <td>1.763138</td>\n",
       "      <td>1.626472</td>\n",
       "      <td>17.571003</td>\n",
       "      <td>0.499767</td>\n",
       "      <td>0.425147</td>\n",
       "      <td>0.303282</td>\n",
       "      <td>0.283987</td>\n",
       "      <td>...</td>\n",
       "      <td>46.042025</td>\n",
       "      <td>6.428943</td>\n",
       "      <td>6.887837</td>\n",
       "      <td>1.646030</td>\n",
       "      <td>2.087890</td>\n",
       "      <td>7.864340</td>\n",
       "      <td>0.181920</td>\n",
       "      <td>0.182712</td>\n",
       "      <td>0.0</td>\n",
       "      <td>0.0</td>\n",
       "    </tr>\n",
       "    <tr>\n",
       "      <th>min</th>\n",
       "      <td>1006.000000</td>\n",
       "      <td>1.0</td>\n",
       "      <td>1.000000</td>\n",
       "      <td>1.000000</td>\n",
       "      <td>3.000000</td>\n",
       "      <td>18.000000</td>\n",
       "      <td>1.000000</td>\n",
       "      <td>1.000000</td>\n",
       "      <td>1.000000</td>\n",
       "      <td>1.000000</td>\n",
       "      <td>...</td>\n",
       "      <td>1.000000</td>\n",
       "      <td>1.000000</td>\n",
       "      <td>1.000000</td>\n",
       "      <td>5.000000</td>\n",
       "      <td>1.000000</td>\n",
       "      <td>0.000000</td>\n",
       "      <td>0.175572</td>\n",
       "      <td>0.131613</td>\n",
       "      <td>1.0</td>\n",
       "      <td>1.0</td>\n",
       "    </tr>\n",
       "    <tr>\n",
       "      <th>25%</th>\n",
       "      <td>2777.750000</td>\n",
       "      <td>1.0</td>\n",
       "      <td>5.000000</td>\n",
       "      <td>2.000000</td>\n",
       "      <td>4.000000</td>\n",
       "      <td>34.000000</td>\n",
       "      <td>1.000000</td>\n",
       "      <td>1.000000</td>\n",
       "      <td>1.000000</td>\n",
       "      <td>2.000000</td>\n",
       "      <td>...</td>\n",
       "      <td>4.000000</td>\n",
       "      <td>1.000000</td>\n",
       "      <td>1.000000</td>\n",
       "      <td>5.000000</td>\n",
       "      <td>1.000000</td>\n",
       "      <td>1.000000</td>\n",
       "      <td>1.082998</td>\n",
       "      <td>1.082998</td>\n",
       "      <td>1.0</td>\n",
       "      <td>1.0</td>\n",
       "    </tr>\n",
       "    <tr>\n",
       "      <th>50%</th>\n",
       "      <td>4565.500000</td>\n",
       "      <td>1.0</td>\n",
       "      <td>9.000000</td>\n",
       "      <td>4.000000</td>\n",
       "      <td>6.000000</td>\n",
       "      <td>46.000000</td>\n",
       "      <td>2.000000</td>\n",
       "      <td>1.000000</td>\n",
       "      <td>1.000000</td>\n",
       "      <td>2.000000</td>\n",
       "      <td>...</td>\n",
       "      <td>5.000000</td>\n",
       "      <td>2.000000</td>\n",
       "      <td>2.000000</td>\n",
       "      <td>5.000000</td>\n",
       "      <td>1.000000</td>\n",
       "      <td>2.000000</td>\n",
       "      <td>1.107651</td>\n",
       "      <td>1.107651</td>\n",
       "      <td>1.0</td>\n",
       "      <td>1.0</td>\n",
       "    </tr>\n",
       "    <tr>\n",
       "      <th>75%</th>\n",
       "      <td>6359.250000</td>\n",
       "      <td>1.0</td>\n",
       "      <td>13.000000</td>\n",
       "      <td>5.000000</td>\n",
       "      <td>7.000000</td>\n",
       "      <td>62.000000</td>\n",
       "      <td>2.000000</td>\n",
       "      <td>1.000000</td>\n",
       "      <td>1.000000</td>\n",
       "      <td>2.000000</td>\n",
       "      <td>...</td>\n",
       "      <td>100.000000</td>\n",
       "      <td>2.000000</td>\n",
       "      <td>3.000000</td>\n",
       "      <td>7.000000</td>\n",
       "      <td>1.000000</td>\n",
       "      <td>3.000000</td>\n",
       "      <td>1.115778</td>\n",
       "      <td>1.115778</td>\n",
       "      <td>1.0</td>\n",
       "      <td>1.0</td>\n",
       "    </tr>\n",
       "    <tr>\n",
       "      <th>max</th>\n",
       "      <td>8240.000000</td>\n",
       "      <td>1.0</td>\n",
       "      <td>19.000000</td>\n",
       "      <td>6.000000</td>\n",
       "      <td>8.000000</td>\n",
       "      <td>95.000000</td>\n",
       "      <td>2.000000</td>\n",
       "      <td>2.000000</td>\n",
       "      <td>2.000000</td>\n",
       "      <td>2.000000</td>\n",
       "      <td>...</td>\n",
       "      <td>100.000000</td>\n",
       "      <td>100.000000</td>\n",
       "      <td>100.000000</td>\n",
       "      <td>16.000000</td>\n",
       "      <td>100.000000</td>\n",
       "      <td>100.000000</td>\n",
       "      <td>1.196041</td>\n",
       "      <td>1.196041</td>\n",
       "      <td>1.0</td>\n",
       "      <td>1.0</td>\n",
       "    </tr>\n",
       "  </tbody>\n",
       "</table>\n",
       "<p>8 rows × 240 columns</p>\n",
       "</div>"
      ],
      "text/plain": [
       "            numero  modalidad         P0R1          P0B         POB1  \\\n",
       "count  6816.000000     6816.0  6816.000000  6816.000000  6816.000000   \n",
       "mean   4577.223738        1.0     8.456719     3.571156     5.777142   \n",
       "std    2076.015852        0.0     4.826821     1.763138     1.626472   \n",
       "min    1006.000000        1.0     1.000000     1.000000     3.000000   \n",
       "25%    2777.750000        1.0     5.000000     2.000000     4.000000   \n",
       "50%    4565.500000        1.0     9.000000     4.000000     6.000000   \n",
       "75%    6359.250000        1.0    13.000000     5.000000     7.000000   \n",
       "max    8240.000000        1.0    19.000000     6.000000     8.000000   \n",
       "\n",
       "              P0B2          P0C         P0F1         POF2         POF3  ...  \\\n",
       "count  6816.000000  6816.000000  6816.000000  5202.000000  4669.000000  ...   \n",
       "mean     47.907864     1.516432     1.236796     1.102461     1.911544  ...   \n",
       "std      17.571003     0.499767     0.425147     0.303282     0.283987  ...   \n",
       "min      18.000000     1.000000     1.000000     1.000000     1.000000  ...   \n",
       "25%      34.000000     1.000000     1.000000     1.000000     2.000000  ...   \n",
       "50%      46.000000     2.000000     1.000000     1.000000     2.000000  ...   \n",
       "75%      62.000000     2.000000     1.000000     1.000000     2.000000  ...   \n",
       "max      95.000000     2.000000     2.000000     2.000000     2.000000  ...   \n",
       "\n",
       "               DB4          DB5          DB6        DB6B          DB7  \\\n",
       "count  6816.000000  6816.000000  6816.000000  149.000000  6816.000000   \n",
       "mean     39.057072     2.367811     2.843603    5.993289     1.098005   \n",
       "std      46.042025     6.428943     6.887837    1.646030     2.087890   \n",
       "min       1.000000     1.000000     1.000000    5.000000     1.000000   \n",
       "25%       4.000000     1.000000     1.000000    5.000000     1.000000   \n",
       "50%       5.000000     2.000000     2.000000    5.000000     1.000000   \n",
       "75%     100.000000     2.000000     3.000000    7.000000     1.000000   \n",
       "max     100.000000   100.000000   100.000000   16.000000   100.000000   \n",
       "\n",
       "               DB8         PESO        PESO1  revisadas_personales  \\\n",
       "count  6816.000000  6816.000000  6816.000000                 660.0   \n",
       "mean      2.488116     1.050457     1.046409                   1.0   \n",
       "std       7.864340     0.181920     0.182712                   0.0   \n",
       "min       0.000000     0.175572     0.131613                   1.0   \n",
       "25%       1.000000     1.082998     1.082998                   1.0   \n",
       "50%       2.000000     1.107651     1.107651                   1.0   \n",
       "75%       3.000000     1.115778     1.115778                   1.0   \n",
       "max     100.000000     1.196041     1.196041                   1.0   \n",
       "\n",
       "       revisadas_telefónicas  \n",
       "count                 1307.0  \n",
       "mean                     1.0  \n",
       "std                      0.0  \n",
       "min                      1.0  \n",
       "25%                      1.0  \n",
       "50%                      1.0  \n",
       "75%                      1.0  \n",
       "max                      1.0  \n",
       "\n",
       "[8 rows x 240 columns]"
      ]
     },
     "execution_count": 3,
     "metadata": {},
     "output_type": "execute_result"
    }
   ],
   "source": [
    "df.describe()"
   ]
  },
  {
   "cell_type": "code",
   "execution_count": 4,
   "metadata": {
    "colab": {},
    "colab_type": "code",
    "id": "ekH5TpNid-T0"
   },
   "outputs": [],
   "source": [
    "# Declaración de funciones para limpiar el Dataframe\n",
    "\n",
    "def change_99_100(x):\n",
    "    if (type(x) == int or type(x) == float) and x >= 99.0:\n",
    "      return None\n",
    "    else :\n",
    "      return x\n",
    "\n",
    "def change_column_P23(x):\n",
    "    if (type(x) == int or type(x) == float) and x >= 2.0:\n",
    "      return 2.0\n",
    "    else :\n",
    "      return x\n",
    "\n",
    "def cleanDataset(df):\n",
    "  print(\"Tamaño del dataframe antes de limpieza \", df.shape)\n",
    "\n",
    "  new_df = df[df['P23'] <= 3]\n",
    "  print(\"Eliminadas filas que no han contestado a la variable objetivo \", new_df.shape )\n",
    "\n",
    "  new_df = new_df.apply(change_99_100)\n",
    "  print(\"Eliminados los valores de 99 o 100\", new_df.shape)\n",
    "\n",
    "  new_df['P23'] = new_df['P23'].apply(change_column_P23)\n",
    "  print(\"Unificados Valores de P23 2 y 3 en solo 2\", new_df.shape)\n",
    "\n",
    "  new_df = new_df.dropna(axis=1, how='any')\n",
    "  print(\"Eliminadas todas las columnas con al menos un valor nulo\", new_df.shape)\n",
    "\n",
    "  new_df = new_df.drop(['numero', 'modalidad'],1)\n",
    "  print(\"Eliminadas columnas que no aportan valor \", new_df.shape)\n",
    "\n",
    "  return new_df"
   ]
  },
  {
   "cell_type": "code",
   "execution_count": 5,
   "metadata": {
    "scrolled": true
   },
   "outputs": [
    {
     "name": "stdout",
     "output_type": "stream",
     "text": [
      "Tamaño del dataframe antes de limpieza  (6816, 240)\n",
      "Eliminadas filas que no han contestado a la variable objetivo  (5159, 240)\n",
      "Eliminados los valores de 99 o 100 (5159, 240)\n",
      "Unificados Valores de P23 2 y 3 en solo 2 (5159, 240)\n",
      "Eliminadas todas las columnas con al menos un valor nulo (5159, 127)\n",
      "Eliminadas columnas que no aportan valor  (5159, 125)\n"
     ]
    },
    {
     "data": {
      "text/plain": [
       "Index(['P0R1', 'P0B', 'POB1', 'P0B2', 'P0C', 'P0F1', 'POF2', 'P1P1A', 'P1P1B',\n",
       "       'P1P1C',\n",
       "       ...\n",
       "       'DB0', 'DB1', 'DB3', 'DB4', 'DB5', 'DB6', 'DB7', 'DB8', 'PESO',\n",
       "       'PESO1'],\n",
       "      dtype='object', length=125)"
      ]
     },
     "execution_count": 5,
     "metadata": {},
     "output_type": "execute_result"
    }
   ],
   "source": [
    "new_df = cleanDataset(df)\n",
    "new_df.columns"
   ]
  },
  {
   "cell_type": "code",
   "execution_count": 6,
   "metadata": {
    "colab": {},
    "colab_type": "code",
    "id": "eIkjYbgvXKgY"
   },
   "outputs": [
    {
     "data": {
      "image/png": "[encoded data removed]",
      "text/plain": [
       "<Figure size 432x288 with 1 Axes>"
      ]
     },
     "metadata": {
      "needs_background": "light"
     },
     "output_type": "display_data"
    }
   ],
   "source": [
    "### Variable Objetivo ###\n",
    "plot= new_df['P23'].value_counts().plot(kind='barh', title=\"Variable objetivo\") "
   ]
  },
  {
   "cell_type": "code",
   "execution_count": 13,
   "metadata": {},
   "outputs": [
    {
     "data": {
      "text/plain": [
       "1.0    4820\n",
       "2.0     339\n",
       "Name: P23, dtype: int64"
      ]
     },
     "execution_count": 13,
     "metadata": {},
     "output_type": "execute_result"
    }
   ],
   "source": [
    "new_df['P23'].value_counts()"
   ]
  },
  {
   "cell_type": "code",
   "execution_count": 7,
   "metadata": {
    "colab": {},
    "colab_type": "code",
    "id": "ICN2PmjeXYjq"
   },
   "outputs": [
    {
     "data": {
      "text/html": [
       "<div>\n",
       "<style scoped>\n",
       "    .dataframe tbody tr th:only-of-type {\n",
       "        vertical-align: middle;\n",
       "    }\n",
       "\n",
       "    .dataframe tbody tr th {\n",
       "        vertical-align: top;\n",
       "    }\n",
       "\n",
       "    .dataframe thead th {\n",
       "        text-align: right;\n",
       "    }\n",
       "</style>\n",
       "<table border=\"1\" class=\"dataframe\">\n",
       "  <thead>\n",
       "    <tr style=\"text-align: right;\">\n",
       "      <th>P0R1</th>\n",
       "      <th>1</th>\n",
       "      <th>2</th>\n",
       "      <th>3</th>\n",
       "      <th>4</th>\n",
       "      <th>5</th>\n",
       "      <th>6</th>\n",
       "      <th>7</th>\n",
       "      <th>8</th>\n",
       "      <th>9</th>\n",
       "      <th>10</th>\n",
       "      <th>11</th>\n",
       "      <th>12</th>\n",
       "      <th>13</th>\n",
       "      <th>14</th>\n",
       "      <th>15</th>\n",
       "      <th>16</th>\n",
       "      <th>17</th>\n",
       "      <th>18</th>\n",
       "      <th>19</th>\n",
       "      <th>All</th>\n",
       "    </tr>\n",
       "    <tr>\n",
       "      <th>P23</th>\n",
       "      <th></th>\n",
       "      <th></th>\n",
       "      <th></th>\n",
       "      <th></th>\n",
       "      <th></th>\n",
       "      <th></th>\n",
       "      <th></th>\n",
       "      <th></th>\n",
       "      <th></th>\n",
       "      <th></th>\n",
       "      <th></th>\n",
       "      <th></th>\n",
       "      <th></th>\n",
       "      <th></th>\n",
       "      <th></th>\n",
       "      <th></th>\n",
       "      <th></th>\n",
       "      <th></th>\n",
       "      <th></th>\n",
       "      <th></th>\n",
       "    </tr>\n",
       "  </thead>\n",
       "  <tbody>\n",
       "    <tr>\n",
       "      <th>1.0</th>\n",
       "      <td>1023</td>\n",
       "      <td>150</td>\n",
       "      <td>146</td>\n",
       "      <td>129</td>\n",
       "      <td>254</td>\n",
       "      <td>63</td>\n",
       "      <td>215</td>\n",
       "      <td>173</td>\n",
       "      <td>509</td>\n",
       "      <td>563</td>\n",
       "      <td>83</td>\n",
       "      <td>315</td>\n",
       "      <td>633</td>\n",
       "      <td>153</td>\n",
       "      <td>72</td>\n",
       "      <td>225</td>\n",
       "      <td>44</td>\n",
       "      <td>37</td>\n",
       "      <td>33</td>\n",
       "      <td>4820</td>\n",
       "    </tr>\n",
       "    <tr>\n",
       "      <th>2.0</th>\n",
       "      <td>33</td>\n",
       "      <td>7</td>\n",
       "      <td>5</td>\n",
       "      <td>3</td>\n",
       "      <td>19</td>\n",
       "      <td>1</td>\n",
       "      <td>33</td>\n",
       "      <td>14</td>\n",
       "      <td>36</td>\n",
       "      <td>31</td>\n",
       "      <td>5</td>\n",
       "      <td>20</td>\n",
       "      <td>77</td>\n",
       "      <td>6</td>\n",
       "      <td>4</td>\n",
       "      <td>24</td>\n",
       "      <td>16</td>\n",
       "      <td>1</td>\n",
       "      <td>4</td>\n",
       "      <td>339</td>\n",
       "    </tr>\n",
       "    <tr>\n",
       "      <th>All</th>\n",
       "      <td>1056</td>\n",
       "      <td>157</td>\n",
       "      <td>151</td>\n",
       "      <td>132</td>\n",
       "      <td>273</td>\n",
       "      <td>64</td>\n",
       "      <td>248</td>\n",
       "      <td>187</td>\n",
       "      <td>545</td>\n",
       "      <td>594</td>\n",
       "      <td>88</td>\n",
       "      <td>335</td>\n",
       "      <td>710</td>\n",
       "      <td>159</td>\n",
       "      <td>76</td>\n",
       "      <td>249</td>\n",
       "      <td>60</td>\n",
       "      <td>38</td>\n",
       "      <td>37</td>\n",
       "      <td>5159</td>\n",
       "    </tr>\n",
       "  </tbody>\n",
       "</table>\n",
       "</div>"
      ],
      "text/plain": [
       "P0R1     1    2    3    4    5   6    7    8    9   10  11   12   13   14  15  \\\n",
       "P23                                                                             \n",
       "1.0   1023  150  146  129  254  63  215  173  509  563  83  315  633  153  72   \n",
       "2.0     33    7    5    3   19   1   33   14   36   31   5   20   77    6   4   \n",
       "All   1056  157  151  132  273  64  248  187  545  594  88  335  710  159  76   \n",
       "\n",
       "P0R1   16  17  18  19   All  \n",
       "P23                          \n",
       "1.0   225  44  37  33  4820  \n",
       "2.0    24  16   1   4   339  \n",
       "All   249  60  38  37  5159  "
      ]
     },
     "execution_count": 7,
     "metadata": {},
     "output_type": "execute_result"
    }
   ],
   "source": [
    "### Tabla Variable objetivo - Comunidad autónoma ###\n",
    "pd.crosstab(new_df['P23'], new_df['P0R1'], margins=True)"
   ]
  },
  {
   "cell_type": "code",
   "execution_count": 8,
   "metadata": {
    "colab": {},
    "colab_type": "code",
    "id": "4dSlkGfGXeMJ"
   },
   "outputs": [
    {
     "data": {
      "image/png": "[encoded data removed]",
      "text/plain": [
       "<Figure size 432x288 with 1 Axes>"
      ]
     },
     "metadata": {
      "image/png": {
       "height": 266,
       "width": 398
      }
     },
     "output_type": "display_data"
    }
   ],
   "source": [
    "sns.set()\n",
    "%config InlineBackend.figure_format='retina'\n",
    "sns.countplot(x='P0R1', hue='P23', data=new_df);"
   ]
  },
  {
   "cell_type": "code",
   "execution_count": 9,
   "metadata": {
    "colab": {},
    "colab_type": "code",
    "id": "ZMXs-_YZXnMk"
   },
   "outputs": [
    {
     "data": {
      "text/plain": [
       "array([1., 2.])"
      ]
     },
     "execution_count": 9,
     "metadata": {},
     "output_type": "execute_result"
    }
   ],
   "source": [
    "new_df['P23'].unique()"
   ]
  },
  {
   "cell_type": "code",
   "execution_count": 10,
   "metadata": {
    "colab": {},
    "colab_type": "code",
    "id": "AuhAAB3tXw-z"
   },
   "outputs": [
    {
     "data": {
      "text/plain": [
       "<matplotlib.axes._subplots.AxesSubplot at 0x2018e4ec320>"
      ]
     },
     "execution_count": 10,
     "metadata": {},
     "output_type": "execute_result"
    },
    {
     "data": {
      "image/png": "[encoded data removed]",
      "text/plain": [
       "<Figure size 432x288 with 1 Axes>"
      ]
     },
     "metadata": {
      "image/png": {
       "height": 266,
       "width": 386
      }
     },
     "output_type": "display_data"
    }
   ],
   "source": [
    "### Histograma de la edad ###\n",
    "sns.distplot(new_df['P0B2'])"
   ]
  },
  {
   "cell_type": "code",
   "execution_count": 11,
   "metadata": {
    "colab": {},
    "colab_type": "code",
    "id": "hJNULRIxX82N"
   },
   "outputs": [
    {
     "data": {
      "text/plain": [
       "<matplotlib.axes._subplots.AxesSubplot at 0x2018e56f400>"
      ]
     },
     "execution_count": 11,
     "metadata": {},
     "output_type": "execute_result"
    },
    {
     "data": {
      "image/png": "[encoded data removed]",
      "text/plain": [
       "<Figure size 432x288 with 1 Axes>"
      ]
     },
     "metadata": {
      "image/png": {
       "height": 266,
       "width": 364
      }
     },
     "output_type": "display_data"
    }
   ],
   "source": [
    "### Histograma del sexo ###\n",
    "sns.distplot(new_df['P0C'])"
   ]
  },
  {
   "cell_type": "code",
   "execution_count": 12,
   "metadata": {
    "colab": {},
    "colab_type": "code",
    "id": "YZJqQgyHYCq0"
   },
   "outputs": [
    {
     "data": {
      "text/plain": [
       "<matplotlib.axes._subplots.AxesSubplot at 0x2018e56f5f8>"
      ]
     },
     "execution_count": 12,
     "metadata": {},
     "output_type": "execute_result"
    },
    {
     "data": {
      "image/png": "[encoded data removed]",
      "text/plain": [
       "<Figure size 432x288 with 1 Axes>"
      ]
     },
     "metadata": {
      "image/png": {
       "height": 266,
       "width": 374
      }
     },
     "output_type": "display_data"
    }
   ],
   "source": [
    "### Histograma Estado de Salud ###\n",
    "sns.distplot(new_df['P28'])"
   ]
  }
 ],
 "metadata": {
  "colab": {
   "collapsed_sections": [],
   "name": "Limpiando_datos2.ipynb",
   "provenance": [],
   "toc_visible": true
  },
  "kernelspec": {
   "display_name": "Python 3",
   "language": "python",
   "name": "python3"
  },
  "language_info": {
   "codemirror_mode": {
    "name": "ipython",
    "version": 3
   },
   "file_extension": ".py",
   "mimetype": "text/x-python",
   "name": "python",
   "nbconvert_exporter": "python",
   "pygments_lexer": "ipython3",
   "version": "3.7.3"
  }
 },
 "nbformat": 4,
 "nbformat_minor": 1
}
