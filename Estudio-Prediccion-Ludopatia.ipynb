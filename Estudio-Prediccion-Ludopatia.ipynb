{
 "cells": [
  {
   "cell_type": "code",
   "execution_count": null,
   "metadata": {
    "colab": {
     "base_uri": "https://localhost:8080/",
     "height": 34
    },
    "colab_type": "code",
    "id": "4nKyvK1LL2Vl",
    "outputId": "990e0b0f-682f-447f-e875-1893d6ab5cf3"
   },
   "outputs": [],
   "source": [
    "from google.colab import drive\n",
    "drive.mount('/content/drive')"
   ]
  },
  {
   "cell_type": "markdown",
   "metadata": {
    "colab_type": "text",
    "id": "v9PPq7FAzwsO"
   },
   "source": [
    "# Nueva sección"
   ]
  },
  {
   "cell_type": "code",
   "execution_count": 1,
   "metadata": {
    "colab": {},
    "colab_type": "code",
    "id": "1oSXa6sKWmHX"
   },
   "outputs": [],
   "source": [
    "### Importación de las librerías necesarias ###\n",
    "###############################################\n",
    "import pandas as pd\n",
    "import numpy as np\n",
    "import matplotlib.pyplot as plt\n",
    "import seaborn as sns\n",
    "\n",
    "from sklearn.ensemble import RandomForestClassifier\n",
    "from sklearn import metrics\n",
    "from sklearn import svm\n",
    "from sklearn.metrics import confusion_matrix\n",
    "from sklearn.metrics import classification_report\n",
    "from sklearn.model_selection import train_test_split, cross_val_score, GridSearchCV\n",
    "from sklearn.linear_model import LogisticRegression\n",
    "from sklearn.decomposition import PCA\n",
    "from sklearn.tree import DecisionTreeClassifier\n",
    "\n",
    "from pylab import rcParams\n",
    "\n",
    "from imblearn.under_sampling import NearMiss\n",
    "from imblearn.over_sampling import RandomOverSampler\n",
    "from imblearn.combine import SMOTETomek\n",
    "from imblearn.ensemble import BalancedBaggingClassifier\n",
    "from collections import Counter\n",
    "\n",
    "from sklearn.naive_bayes import GaussianNB\n",
    "from sklearn.feature_selection import SelectKBest\n",
    "\n",
    "%matplotlib inline"
   ]
  },
  {
   "cell_type": "code",
   "execution_count": 2,
   "metadata": {
    "colab": {},
    "colab_type": "code",
    "id": "ipefE7_wLPFW"
   },
   "outputs": [],
   "source": [
    "df = pd.read_excel('EstudioPrevalencia2015.xlsx', 1)"
   ]
  },
  {
   "cell_type": "code",
   "execution_count": null,
   "metadata": {
    "colab": {
     "base_uri": "https://localhost:8080/",
     "height": 333
    },
    "colab_type": "code",
    "id": "9oOBqpT-LPFg",
    "outputId": "5e0a9e96-088d-4800-ab7a-fcd35ce5a5d5"
   },
   "outputs": [],
   "source": [
    "df.describe()"
   ]
  },
  {
   "cell_type": "code",
   "execution_count": 6,
   "metadata": {
    "colab": {},
    "colab_type": "code",
    "id": "ekH5TpNid-T0"
   },
   "outputs": [],
   "source": [
    "# Declaración de funciones para limpiar el Dataframe\n",
    "\n",
    "def change_99_100(x):\n",
    "    if (type(x) == int or type(x) == float) and x >= 99.0:\n",
    "      return None\n",
    "    else :\n",
    "      return x\n",
    "\n",
    "def change_column_P23(x):\n",
    "    if (type(x) == int or type(x) == float) and x >= 2.0:\n",
    "      return 2.0\n",
    "    else :\n",
    "      return x\n",
    "\n",
    "def cleanDataset(df):\n",
    "  print(\"Tamaño del dataframe antes de limpieza \", df.shape)\n",
    "\n",
    "  new_df = df[df['P23'] <= 3]\n",
    "  print(\"Eliminadas filas que no han contestado a la variable objetivo \", new_df.shape )\n",
    "\n",
    "  new_df = new_df.apply(change_99_100)\n",
    "  print(\"Eliminados los valores de 99 o 100\", new_df.shape)\n",
    "\n",
    "  new_df['P23'] = new_df['P23'].apply(change_column_P23)\n",
    "  print(\"Unificados Valores de P23 2 y 3 en solo 2\", new_df.shape)\n",
    "\n",
    "  new_df = new_df.dropna(axis=1, how='any')\n",
    "  print(\"Eliminadas todas las columnas con al menos un valor nulo\", new_df.shape)\n",
    "\n",
    "  new_df = new_df.drop(['numero', 'modalidad'],1)\n",
    "  print(\"Eliminadas columnas que no aportan valor \", new_df.shape)\n",
    "\n",
    "  return new_df"
   ]
  },
  {
   "cell_type": "code",
   "execution_count": 12,
   "metadata": {
    "scrolled": true
   },
   "outputs": [
    {
     "name": "stdout",
     "output_type": "stream",
     "text": [
      "Tamaño del dataframe antes de limpieza  (6816, 240)\n",
      "Eliminadas filas que no han contestado a la variable objetivo  (5159, 240)\n",
      "Eliminados los valores de 99 o 100 (5159, 240)\n",
      "Unificados Valores de P23 2 y 3 en solo 2 (5159, 240)\n",
      "Eliminadas columnas vacías  (5159, 218)\n",
      "Eliminadas todas las columnas con al menos un valor nulo (5159, 127)\n",
      "Eliminadas columnas que no aportan valor  (5159, 125)\n"
     ]
    }
   ],
   "source": [
    "new_df = cleanDataset(df)\n",
    "new_df.columns"
   ]
  },
  {
   "cell_type": "code",
   "execution_count": null,
   "metadata": {
    "colab": {},
    "colab_type": "code",
    "id": "eIkjYbgvXKgY"
   },
   "outputs": [],
   "source": [
    "### Variable Objetivo ###\n",
    "plot= new_df['P23'].value_counts().plot(kind='barh', title=\"Variable objetivo\") "
   ]
  },
  {
   "cell_type": "code",
   "execution_count": null,
   "metadata": {
    "colab": {},
    "colab_type": "code",
    "id": "ICN2PmjeXYjq"
   },
   "outputs": [],
   "source": [
    "### Tabla Variable objetivo - Comunidad autónoma ###\n",
    "pd.crosstab(new_df['P23'], new_df['P0R1'], margins=True)"
   ]
  },
  {
   "cell_type": "code",
   "execution_count": null,
   "metadata": {
    "colab": {},
    "colab_type": "code",
    "id": "4dSlkGfGXeMJ"
   },
   "outputs": [],
   "source": [
    "sns.set()\n",
    "%config InlineBackend.figure_format='retina'\n",
    "sns.countplot(x='P0R1', hue='P23', data=new_df);"
   ]
  },
  {
   "cell_type": "code",
   "execution_count": null,
   "metadata": {
    "colab": {},
    "colab_type": "code",
    "id": "ZMXs-_YZXnMk"
   },
   "outputs": [],
   "source": [
    "new_df['P23'].unique()"
   ]
  },
  {
   "cell_type": "code",
   "execution_count": null,
   "metadata": {
    "colab": {},
    "colab_type": "code",
    "id": "AuhAAB3tXw-z"
   },
   "outputs": [],
   "source": [
    "### Histograma de la edad ###\n",
    "sns.distplot(new_df['P0B2'])"
   ]
  },
  {
   "cell_type": "code",
   "execution_count": null,
   "metadata": {
    "colab": {},
    "colab_type": "code",
    "id": "hJNULRIxX82N"
   },
   "outputs": [],
   "source": [
    "### Histograma del sexo ###\n",
    "sns.distplot(new_df['P0C'])"
   ]
  },
  {
   "cell_type": "code",
   "execution_count": null,
   "metadata": {
    "colab": {},
    "colab_type": "code",
    "id": "YZJqQgyHYCq0"
   },
   "outputs": [],
   "source": [
    "### Histograma Estado de Salud ###\n",
    "sns.distplot(new_df['P28'])"
   ]
  }
 ],
 "metadata": {
  "colab": {
   "collapsed_sections": [],
   "name": "Limpiando_datos2.ipynb",
   "provenance": [],
   "toc_visible": true
  },
  "kernelspec": {
   "display_name": "Python 3",
   "language": "python",
   "name": "python3"
  },
  "language_info": {
   "codemirror_mode": {
    "name": "ipython",
    "version": 3
   },
   "file_extension": ".py",
   "mimetype": "text/x-python",
   "name": "python",
   "nbconvert_exporter": "python",
   "pygments_lexer": "ipython3",
   "version": "3.7.3"
  }
 },
 "nbformat": 4,
 "nbformat_minor": 1
}
