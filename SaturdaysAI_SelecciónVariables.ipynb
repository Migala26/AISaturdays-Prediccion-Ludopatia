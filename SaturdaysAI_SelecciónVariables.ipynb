{
 "cells": [
  {
   "cell_type": "code",
   "execution_count": 27,
   "metadata": {},
   "outputs": [],
   "source": [
    "################# SATURDAYSAI #################\n",
    "### Importación de las librerías necesarias ###\n",
    "###############################################\n",
    "import pandas as pd\n",
    "import numpy as np\n",
    "import matplotlib.pyplot as plt\n",
    "import seaborn as sns\n",
    "\n",
    "from sklearn.ensemble import RandomForestClassifier\n",
    "from sklearn import metrics\n",
    "from sklearn import svm\n",
    "from sklearn.metrics import confusion_matrix\n",
    "from sklearn.metrics import classification_report\n",
    "from sklearn.model_selection import train_test_split, cross_val_score, GridSearchCV\n",
    "from sklearn.linear_model import LogisticRegression\n",
    "from sklearn.decomposition import PCA\n",
    "from sklearn.tree import DecisionTreeClassifier\n",
    "\n",
    "from pylab import rcParams\n",
    "\n",
    "from imblearn.under_sampling import NearMiss\n",
    "from imblearn.over_sampling import RandomOverSampler\n",
    "from imblearn.ensemble import BalancedBaggingClassifier\n",
    "from collections import Counter\n",
    "\n",
    "rcParams['figure.figsize'] = 14, 8.7 \n",
    "LABELS = [\"1\",\"2\"]\n",
    "\n",
    "from sklearn.naive_bayes import GaussianNB\n",
    "from sklearn.feature_selection import SelectKBest\n",
    "\n",
    "%matplotlib inline"
   ]
  },
  {
   "cell_type": "markdown",
   "metadata": {},
   "source": [
    "# Carga de datos"
   ]
  },
  {
   "cell_type": "code",
   "execution_count": 28,
   "metadata": {},
   "outputs": [],
   "source": [
    "### Importación de la Base de datos ###\n",
    "file = \"../Machine Learning Python (ML)/BBDD/EstudioPrevalencia2015.xlsx\"\n",
    "xl = pd.ExcelFile(file)"
   ]
  },
  {
   "cell_type": "code",
   "execution_count": 29,
   "metadata": {},
   "outputs": [
    {
     "name": "stdout",
     "output_type": "stream",
     "text": [
      "['BBDD fichero total', 'títulos y códigos', 'Hoja1']\n"
     ]
    }
   ],
   "source": [
    "print(xl.sheet_names)"
   ]
  },
  {
   "cell_type": "code",
   "execution_count": 30,
   "metadata": {},
   "outputs": [],
   "source": [
    "df=xl.parse('BBDD fichero total')"
   ]
  },
  {
   "cell_type": "markdown",
   "metadata": {},
   "source": [
    "# Limpieza de los datos"
   ]
  },
  {
   "cell_type": "code",
   "execution_count": 31,
   "metadata": {},
   "outputs": [],
   "source": [
    "# Declaración de funciones para limpiar el Dataframe\n",
    "\n",
    "def change_99_100(x):\n",
    "    if (type(x) == int or type(x) == float) and x >= 99.0:\n",
    "      return None\n",
    "    else :\n",
    "      return x\n",
    "\n",
    "def change_column_P23(x):\n",
    "    if (type(x) == int or type(x) == float) and x >= 2.0:\n",
    "      return 2\n",
    "    else :\n",
    "      return 1\n",
    "\n",
    "def cleanDataset(df):\n",
    "  print(\"Tamaño del dataframe antes de limpieza \", df.shape)\n",
    "\n",
    "  new_df = df[df['P23'] <= 3]\n",
    "  print(\"Eliminadas filas que no han contestado a la variable objetivo \", new_df.shape )\n",
    "\n",
    "  new_df = new_df.apply(change_99_100)\n",
    "  print(\"Eliminados los valores de 99 o 100\", new_df.shape)\n",
    "\n",
    "  new_df['P23'] = new_df['P23'].apply(change_column_P23)\n",
    "  print(\"Unificados Valores de P23 2 y 3 en solo 2\", new_df.shape)\n",
    "\n",
    "  new_df = new_df.dropna(axis=1, how='any')\n",
    "  print(\"Eliminadas todas las columnas con al menos un valor nulo\", new_df.shape)\n",
    "\n",
    "  new_df = new_df.drop(['numero', 'modalidad'],1)\n",
    "  print(\"Eliminadas columnas que no aportan valor \", new_df.shape)\n",
    "\n",
    "#   new_df = new_df[['P0R1','P0B','POB1','P0C','P3','P4','P5','P6','P7','P8','P9','P11',\n",
    "#                    'P13','P15A','P16A','P18A','P18B','P18C','P20','P20','P22','P24','P26',\n",
    "#                    'P28','P29','P30','P31','P32','P33','P34','P35','P38SP1','P38SP2',\n",
    "#                    'P38SP3','P38SP4','P38SP5','P38SP6','P38SP7','P38SP8','P38SP9',\n",
    "#                    'P39','P41','P43','P46','DB0','DB1','DB3','DB4','DB5','DB6','DB7','DB8', 'P23'\n",
    "#                   ]]\n",
    "  print(\"Después del análisis del investigador dejamos las columnas más interesantes \", new_df.shape)\n",
    "\n",
    "  return new_df"
   ]
  },
  {
   "cell_type": "code",
   "execution_count": 32,
   "metadata": {},
   "outputs": [
    {
     "name": "stdout",
     "output_type": "stream",
     "text": [
      "Tamaño del dataframe antes de limpieza  (6816, 240)\n",
      "Eliminadas filas que no han contestado a la variable objetivo  (5159, 240)\n",
      "Eliminados los valores de 99 o 100 (5159, 240)\n",
      "Unificados Valores de P23 2 y 3 en solo 2 (5159, 240)\n",
      "Eliminadas todas las columnas con al menos un valor nulo (5159, 127)\n",
      "Eliminadas columnas que no aportan valor  (5159, 125)\n",
      "Después del análisis del investigador dejamos las columnas más interesantes  (5159, 125)\n",
      "<class 'pandas.core.frame.DataFrame'>\n",
      "<class 'pandas.core.frame.DataFrame'>\n"
     ]
    }
   ],
   "source": [
    "new_df = cleanDataset(df)\n",
    "# new_df.describe()\n",
    "print(type(new_df))\n",
    "print(type(df))\n",
    "# Variables del experto ya eliminadas previamente\n",
    "# df[['P50', 'DB2', 'P47', 'P38SP10', 'POF3']].describe()"
   ]
  },
  {
   "cell_type": "code",
   "execution_count": 33,
   "metadata": {},
   "outputs": [
    {
     "data": {
      "text/plain": [
       "array([1, 2], dtype=int64)"
      ]
     },
     "execution_count": 33,
     "metadata": {},
     "output_type": "execute_result"
    }
   ],
   "source": [
    "new_df['P23'].unique()"
   ]
  },
  {
   "cell_type": "code",
   "execution_count": 34,
   "metadata": {},
   "outputs": [
    {
     "name": "stdout",
     "output_type": "stream",
     "text": [
      "P0R1, P0B, POB1, P0B2, P0C, P0F1, POF2, P1P1A, P1P1B, P1P1C, P1P1D, P1P1E, P1P1F, P1P1G, P1P1H, P1P1I, P1P1J, P1P1K, P1P1L, P1P1M, P1P1N, P1P1O, P2P2A, P2P2B, P2P2C, P2P2D, P2P2E, P2P2F, P2P2G, P2P2H, P2P2I, P2P2J, P2P2K, P2P2L, P2P2M, P2P2N, P2P2O, P3, P4, P5, P6, P7, P8, P9, P11, P12A_1, P13, P14A1, P14A2, P14A3, P14A4, P14A5, P14A6, P14A7, P14A8, P14A9, P14A10, P14A11, P14A12, P14A13, P14A14, P14A15, P14A16, P14A17, P15A, P16A, P17P17A, P17P17B, P17P17C, P17P17D, P17P17E, P17P17F, P17P17G, P17P17H, P17P17I, P18A, P18B, P18C, P20, P21, P22, P23, P24, P25P25A, P25P25B, P25P25C, P25P25D, P25P25E, P25P25F, P25P25G, P25P25H, P25P25I, P25P25J, P26, P28, P29, P30, P31, P32, P33, P34, P35, P38SP1, P38SP2, P38SP3, P38SP4, P38SP5, P38SP6, P38SP7, P38SP8, P38SP9, P39, P41, P43, P46, DB0, DB1, DB3, DB4, DB5, DB6, DB7, DB8, PESO, PESO1\n"
     ]
    }
   ],
   "source": [
    "print(*new_df.columns.to_list(), sep=', ')\n",
    "# print(new_df.columns.to_list())"
   ]
  },
  {
   "cell_type": "code",
   "execution_count": 35,
   "metadata": {
    "scrolled": true
   },
   "outputs": [
    {
     "data": {
      "text/plain": [
       "P0R1       int64\n",
       "P0B        int64\n",
       "POB1       int64\n",
       "P0B2       int64\n",
       "P0C        int64\n",
       "          ...   \n",
       "DB6        int64\n",
       "DB7        int64\n",
       "DB8        int64\n",
       "PESO     float64\n",
       "PESO1    float64\n",
       "Length: 125, dtype: object"
      ]
     },
     "execution_count": 35,
     "metadata": {},
     "output_type": "execute_result"
    }
   ],
   "source": [
    "new_df.dtypes"
   ]
  },
  {
   "cell_type": "code",
   "execution_count": 36,
   "metadata": {},
   "outputs": [],
   "source": [
    "new_df=new_df.dropna()"
   ]
  },
  {
   "cell_type": "code",
   "execution_count": 37,
   "metadata": {},
   "outputs": [
    {
     "data": {
      "text/plain": [
       "1    4820\n",
       "2     339\n",
       "Name: P23, dtype: int64"
      ]
     },
     "execution_count": 37,
     "metadata": {},
     "output_type": "execute_result"
    }
   ],
   "source": [
    "new_df[\"P23\"].value_counts()"
   ]
  },
  {
   "cell_type": "markdown",
   "metadata": {},
   "source": [
    "# Creación de los conjuntos de Train y Test"
   ]
  },
  {
   "cell_type": "code",
   "execution_count": 38,
   "metadata": {},
   "outputs": [],
   "source": [
    "y = new_df['P23']\n",
    "X = new_df.drop('P23', axis=1)\n",
    "X_train, X_test, y_train, y_test = train_test_split(X, y, train_size=0.7)\n"
   ]
  },
  {
   "cell_type": "code",
   "execution_count": 39,
   "metadata": {},
   "outputs": [],
   "source": [
    "predictores= X_train.columns.tolist()"
   ]
  },
  {
   "cell_type": "code",
   "execution_count": 40,
   "metadata": {},
   "outputs": [
    {
     "name": "stdout",
     "output_type": "stream",
     "text": [
      "X train Shape:  (3611, 124) ; Y train Shape:  (3611,)\n",
      "X test Shape:  (1548, 124) ; Y test Shape:  (1548,)\n"
     ]
    }
   ],
   "source": [
    "print('X train Shape: ' , X_train.shape, '; Y train Shape: ' , y_train.shape)\n",
    "print('X test Shape: ' , X_test.shape, '; Y test Shape: ' , y_test.shape)"
   ]
  },
  {
   "cell_type": "code",
   "execution_count": 41,
   "metadata": {},
   "outputs": [
    {
     "name": "stdout",
     "output_type": "stream",
     "text": [
      "P14A6 0.08418690451660359\n",
      "P15A 0.08325513081716275\n",
      "P14A5 0.06284130293472906\n",
      "P14A11 0.056828949377033214\n",
      "P14A14 0.04638067368785934\n",
      "P16A 0.042255671747133\n",
      "P14A2 0.039099581162902505\n",
      "P14A4 0.037039159096484225\n",
      "P5 0.0337260050106488\n",
      "P14A1 0.03313538952855264\n",
      "P1P1H 0.03117488320150953\n",
      "P14A3 0.028992509111595458\n",
      "P14A10 0.028718386172075182\n",
      "P14A9 0.026997431956394088\n",
      "P14A8 0.02386412763555732\n",
      "P4 0.02329297037645778\n",
      "P23 0.017289279935330228\n",
      "P1P1K 0.015889920109420665\n",
      "P14A16 0.014793458481099562\n",
      "P3 0.01288193767492443\n",
      "P14A17 0.012399649223242033\n",
      "P8 0.012328402890510966\n",
      "P14A7 0.010603888782842276\n",
      "P14A12 0.010001896804539992\n",
      "P7 0.008621389858803535\n",
      "P25P25C 0.006812066025812055\n",
      "P17P17H 0.006581917156060576\n",
      "P18C 0.006530312926493012\n",
      "P2P2I 0.006205701237851759\n",
      "P25P25G 0.005823857072150132\n",
      "P22 0.0054277971189488575\n",
      "P1P1J 0.005257332976554464\n",
      "P2P2M 0.004942380645560029\n",
      "P26 0.004688325256127007\n",
      "P11 0.004333171829586073\n",
      "P18A 0.004281558440571253\n",
      "P2P2K 0.004268986046356909\n",
      "PESO 0.004223162823032384\n",
      "P17P17B 0.004158751308009647\n",
      "P1P1G 0.004107973021540531\n",
      "P25P25B 0.003959383221108362\n",
      "P38SP3 0.0038351531755652013\n",
      "P2P2H 0.0038120416187539603\n",
      "P1P1I 0.003801097217191647\n",
      "P1P1M 0.003590865203886398\n",
      "DB8 0.0033813111994825634\n",
      "P38SP4 0.0033268648692404775\n",
      "P12A_1 0.0032612652470858238\n",
      "P25P25H 0.003251834203128215\n",
      "P1P1F 0.0030378245149733953\n",
      "P0R1 0.002866412294397418\n",
      "P2P2G 0.002681745476322725\n",
      "P2P2J 0.002668607328486198\n",
      "P14A13 0.0026005963615323407\n",
      "P17P17I 0.002596005150883314\n",
      "P17P17E 0.002528363517412231\n",
      "P2P2D 0.002522635682482826\n",
      "P38SP2 0.0025137257763768327\n",
      "P25P25D 0.0024163960093285604\n",
      "P41 0.002401996009880712\n",
      "P34 0.002382526445118579\n",
      "P2P2L 0.0023719034330433137\n",
      "DB1 0.002120369305466735\n",
      "P2P2E 0.0020921749317852744\n",
      "P2P2B 0.002080105032548668\n",
      "P1P1B 0.0019494908785483997\n",
      "P13 0.0018262044593685368\n",
      "P1P1D 0.0017242643892803758\n",
      "P38SP6 0.0017199358666968136\n",
      "POB1 0.001700015047669779\n",
      "P38SP8 0.0016706592923736304\n",
      "P1P1L 0.0016569407833921669\n",
      "P1P1O 0.0016269457414654475\n",
      "DB4 0.0015515109836806069\n",
      "P0B2 0.0015273885554263342\n",
      "P25P25F 0.0015238693833921457\n",
      "P17P17D 0.0015234000280309168\n",
      "P9 0.001515415676578096\n",
      "P46 0.0015098993921484208\n",
      "P38SP7 0.001502865971313347\n",
      "P2P2C 0.001423722686295736\n",
      "P2P2A 0.001406376720007485\n",
      "P25P25J 0.0014039038496805065\n",
      "DB5 0.0013998921919961536\n",
      "P43 0.00134771293320948\n",
      "P25P25I 0.0013261856191439836\n",
      "P18B 0.0012706751456001309\n",
      "P32 0.0012678903839120955\n",
      "P17P17C 0.0012555028078078132\n",
      "P38SP9 0.0011962258798507291\n",
      "P17P17F 0.001191046449028254\n",
      "P33 0.0011869277624400288\n",
      "P1P1C 0.0010653642821505534\n",
      "P28 0.001052873078057656\n",
      "P31 0.0009577506770042466\n",
      "P1P1A 0.0009374313124815617\n",
      "P2P2O 0.000918753198906572\n",
      "POF2 0.000768099306890673\n",
      "DB3 0.000727946070005379\n",
      "P17P17G 0.0007253887973163022\n",
      "P21 0.0007137364972990189\n",
      "P1P1E 0.0006229720897445939\n",
      "P2P2F 0.0005851359828787065\n",
      "P38SP5 0.0005742124184005222\n",
      "P6 0.0005689950096276996\n",
      "P1P1N 0.00047125436060758903\n",
      "P14A15 0.0004387938120394734\n",
      "P20 0.00043677028787066254\n",
      "P35 0.00042690096470665036\n",
      "DB7 0.000416777005853146\n",
      "P29 0.0003418150913253908\n",
      "DB0 0.0002939558159816825\n",
      "P25P25E 0.0002926405634943027\n",
      "P24 0.00011416729547152697\n",
      "P0B 0.0\n",
      "P0C 0.0\n",
      "P0F1 0.0\n",
      "P2P2N 0.0\n",
      "P17P17A 0.0\n",
      "P25P25A 0.0\n",
      "P30 0.0\n",
      "P38SP1 0.0\n",
      "P39 0.0\n",
      "DB6 0.0\n"
     ]
    }
   ],
   "source": [
    "### Variables más importantes ###\n",
    "class_raw = new_df[\"P23\"]\n",
    "features_raw = new_df.drop([\"P23\"], axis = 1)\n",
    "\n",
    "clf = RandomForestClassifier(n_estimators=100, max_depth=3, random_state=42)\n",
    "clf.fit(features_raw, class_raw)\n",
    "\n",
    "feature_list = list(zip(new_df.columns.values, clf.feature_importances_))\n",
    "sorted_by_importance = sorted(feature_list, key=lambda x: x[1], reverse=True)\n",
    "\n",
    "for feat, value in sorted_by_importance:\n",
    "    print(feat, value)"
   ]
  },
  {
   "cell_type": "code",
   "execution_count": 42,
   "metadata": {},
   "outputs": [],
   "source": [
    "#### Selección de variables con Boruta ####\n",
    "from boruta import boruta_py\n",
    "from sklearn.ensemble import RandomForestClassifier"
   ]
  },
  {
   "cell_type": "code",
   "execution_count": 43,
   "metadata": {},
   "outputs": [],
   "source": [
    "train_x_b  = X_train\n",
    "train_y_b = y_train"
   ]
  },
  {
   "cell_type": "code",
   "execution_count": 44,
   "metadata": {},
   "outputs": [],
   "source": [
    "train_x_b=np.matrix(train_x_b)\n",
    "train_y_b=np.transpose(np.matrix(train_y_b))"
   ]
  },
  {
   "cell_type": "code",
   "execution_count": 45,
   "metadata": {},
   "outputs": [
    {
     "data": {
      "text/plain": [
       "(3611, 1)"
      ]
     },
     "execution_count": 45,
     "metadata": {},
     "output_type": "execute_result"
    }
   ],
   "source": [
    "train_y_b.shape"
   ]
  },
  {
   "cell_type": "code",
   "execution_count": 46,
   "metadata": {},
   "outputs": [],
   "source": [
    "rf = RandomForestClassifier(n_jobs=-1, class_weight='balanced', max_depth=5)"
   ]
  },
  {
   "cell_type": "code",
   "execution_count": 47,
   "metadata": {},
   "outputs": [
    {
     "name": "stderr",
     "output_type": "stream",
     "text": [
      "C:\\Users\\Jorge Segura\\Anaconda3\\envs\\DataPy37\\lib\\site-packages\\sklearn\\utils\\validation.py:760: DataConversionWarning: A column-vector y was passed when a 1d array was expected. Please change the shape of y to (n_samples, ), for example using ravel().\n",
      "  y = column_or_1d(y, warn=True)\n",
      "C:\\Users\\Jorge Segura\\Anaconda3\\envs\\DataPy37\\lib\\site-packages\\boruta\\boruta_py.py:384: DataConversionWarning: A column-vector y was passed when a 1d array was expected. Please change the shape of y to (n_samples,), for example using ravel().\n",
      "  self.estimator.fit(X, y)\n"
     ]
    },
    {
     "name": "stdout",
     "output_type": "stream",
     "text": [
      "Iteration: \t1 / 50\n",
      "Confirmed: \t0\n",
      "Tentative: \t124\n",
      "Rejected: \t0\n"
     ]
    },
    {
     "name": "stderr",
     "output_type": "stream",
     "text": [
      "C:\\Users\\Jorge Segura\\Anaconda3\\envs\\DataPy37\\lib\\site-packages\\boruta\\boruta_py.py:384: DataConversionWarning: A column-vector y was passed when a 1d array was expected. Please change the shape of y to (n_samples,), for example using ravel().\n",
      "  self.estimator.fit(X, y)\n"
     ]
    },
    {
     "name": "stdout",
     "output_type": "stream",
     "text": [
      "Iteration: \t2 / 50\n",
      "Confirmed: \t0\n",
      "Tentative: \t124\n",
      "Rejected: \t0\n"
     ]
    },
    {
     "name": "stderr",
     "output_type": "stream",
     "text": [
      "C:\\Users\\Jorge Segura\\Anaconda3\\envs\\DataPy37\\lib\\site-packages\\boruta\\boruta_py.py:384: DataConversionWarning: A column-vector y was passed when a 1d array was expected. Please change the shape of y to (n_samples,), for example using ravel().\n",
      "  self.estimator.fit(X, y)\n"
     ]
    },
    {
     "name": "stdout",
     "output_type": "stream",
     "text": [
      "Iteration: \t3 / 50\n",
      "Confirmed: \t0\n",
      "Tentative: \t124\n",
      "Rejected: \t0\n"
     ]
    },
    {
     "name": "stderr",
     "output_type": "stream",
     "text": [
      "C:\\Users\\Jorge Segura\\Anaconda3\\envs\\DataPy37\\lib\\site-packages\\boruta\\boruta_py.py:384: DataConversionWarning: A column-vector y was passed when a 1d array was expected. Please change the shape of y to (n_samples,), for example using ravel().\n",
      "  self.estimator.fit(X, y)\n"
     ]
    },
    {
     "name": "stdout",
     "output_type": "stream",
     "text": [
      "Iteration: \t4 / 50\n",
      "Confirmed: \t0\n",
      "Tentative: \t124\n",
      "Rejected: \t0\n"
     ]
    },
    {
     "name": "stderr",
     "output_type": "stream",
     "text": [
      "C:\\Users\\Jorge Segura\\Anaconda3\\envs\\DataPy37\\lib\\site-packages\\boruta\\boruta_py.py:384: DataConversionWarning: A column-vector y was passed when a 1d array was expected. Please change the shape of y to (n_samples,), for example using ravel().\n",
      "  self.estimator.fit(X, y)\n"
     ]
    },
    {
     "name": "stdout",
     "output_type": "stream",
     "text": [
      "Iteration: \t5 / 50\n",
      "Confirmed: \t0\n",
      "Tentative: \t124\n",
      "Rejected: \t0\n"
     ]
    },
    {
     "name": "stderr",
     "output_type": "stream",
     "text": [
      "C:\\Users\\Jorge Segura\\Anaconda3\\envs\\DataPy37\\lib\\site-packages\\boruta\\boruta_py.py:384: DataConversionWarning: A column-vector y was passed when a 1d array was expected. Please change the shape of y to (n_samples,), for example using ravel().\n",
      "  self.estimator.fit(X, y)\n"
     ]
    },
    {
     "name": "stdout",
     "output_type": "stream",
     "text": [
      "Iteration: \t6 / 50\n",
      "Confirmed: \t0\n",
      "Tentative: \t124\n",
      "Rejected: \t0\n"
     ]
    },
    {
     "name": "stderr",
     "output_type": "stream",
     "text": [
      "C:\\Users\\Jorge Segura\\Anaconda3\\envs\\DataPy37\\lib\\site-packages\\boruta\\boruta_py.py:384: DataConversionWarning: A column-vector y was passed when a 1d array was expected. Please change the shape of y to (n_samples,), for example using ravel().\n",
      "  self.estimator.fit(X, y)\n"
     ]
    },
    {
     "name": "stdout",
     "output_type": "stream",
     "text": [
      "Iteration: \t7 / 50\n",
      "Confirmed: \t0\n",
      "Tentative: \t124\n",
      "Rejected: \t0\n"
     ]
    },
    {
     "name": "stderr",
     "output_type": "stream",
     "text": [
      "C:\\Users\\Jorge Segura\\Anaconda3\\envs\\DataPy37\\lib\\site-packages\\boruta\\boruta_py.py:384: DataConversionWarning: A column-vector y was passed when a 1d array was expected. Please change the shape of y to (n_samples,), for example using ravel().\n",
      "  self.estimator.fit(X, y)\n"
     ]
    },
    {
     "name": "stdout",
     "output_type": "stream",
     "text": [
      "Iteration: \t8 / 50\n",
      "Confirmed: \t40\n",
      "Tentative: \t41\n",
      "Rejected: \t43\n"
     ]
    },
    {
     "name": "stderr",
     "output_type": "stream",
     "text": [
      "C:\\Users\\Jorge Segura\\Anaconda3\\envs\\DataPy37\\lib\\site-packages\\boruta\\boruta_py.py:384: DataConversionWarning: A column-vector y was passed when a 1d array was expected. Please change the shape of y to (n_samples,), for example using ravel().\n",
      "  self.estimator.fit(X, y)\n"
     ]
    },
    {
     "name": "stdout",
     "output_type": "stream",
     "text": [
      "Iteration: \t9 / 50\n",
      "Confirmed: \t40\n",
      "Tentative: \t41\n",
      "Rejected: \t43\n"
     ]
    },
    {
     "name": "stderr",
     "output_type": "stream",
     "text": [
      "C:\\Users\\Jorge Segura\\Anaconda3\\envs\\DataPy37\\lib\\site-packages\\boruta\\boruta_py.py:384: DataConversionWarning: A column-vector y was passed when a 1d array was expected. Please change the shape of y to (n_samples,), for example using ravel().\n",
      "  self.estimator.fit(X, y)\n"
     ]
    },
    {
     "name": "stdout",
     "output_type": "stream",
     "text": [
      "Iteration: \t10 / 50\n",
      "Confirmed: \t40\n",
      "Tentative: \t41\n",
      "Rejected: \t43\n"
     ]
    },
    {
     "name": "stderr",
     "output_type": "stream",
     "text": [
      "C:\\Users\\Jorge Segura\\Anaconda3\\envs\\DataPy37\\lib\\site-packages\\boruta\\boruta_py.py:384: DataConversionWarning: A column-vector y was passed when a 1d array was expected. Please change the shape of y to (n_samples,), for example using ravel().\n",
      "  self.estimator.fit(X, y)\n"
     ]
    },
    {
     "name": "stdout",
     "output_type": "stream",
     "text": [
      "Iteration: \t11 / 50\n",
      "Confirmed: \t40\n",
      "Tentative: \t41\n",
      "Rejected: \t43\n"
     ]
    },
    {
     "name": "stderr",
     "output_type": "stream",
     "text": [
      "C:\\Users\\Jorge Segura\\Anaconda3\\envs\\DataPy37\\lib\\site-packages\\boruta\\boruta_py.py:384: DataConversionWarning: A column-vector y was passed when a 1d array was expected. Please change the shape of y to (n_samples,), for example using ravel().\n",
      "  self.estimator.fit(X, y)\n"
     ]
    },
    {
     "name": "stdout",
     "output_type": "stream",
     "text": [
      "Iteration: \t12 / 50\n",
      "Confirmed: \t41\n",
      "Tentative: \t40\n",
      "Rejected: \t43\n"
     ]
    },
    {
     "name": "stderr",
     "output_type": "stream",
     "text": [
      "C:\\Users\\Jorge Segura\\Anaconda3\\envs\\DataPy37\\lib\\site-packages\\boruta\\boruta_py.py:384: DataConversionWarning: A column-vector y was passed when a 1d array was expected. Please change the shape of y to (n_samples,), for example using ravel().\n",
      "  self.estimator.fit(X, y)\n"
     ]
    },
    {
     "name": "stdout",
     "output_type": "stream",
     "text": [
      "Iteration: \t13 / 50\n",
      "Confirmed: \t41\n",
      "Tentative: \t37\n",
      "Rejected: \t46\n"
     ]
    },
    {
     "name": "stderr",
     "output_type": "stream",
     "text": [
      "C:\\Users\\Jorge Segura\\Anaconda3\\envs\\DataPy37\\lib\\site-packages\\boruta\\boruta_py.py:384: DataConversionWarning: A column-vector y was passed when a 1d array was expected. Please change the shape of y to (n_samples,), for example using ravel().\n",
      "  self.estimator.fit(X, y)\n"
     ]
    },
    {
     "name": "stdout",
     "output_type": "stream",
     "text": [
      "Iteration: \t14 / 50\n",
      "Confirmed: \t41\n",
      "Tentative: \t37\n",
      "Rejected: \t46\n"
     ]
    },
    {
     "name": "stderr",
     "output_type": "stream",
     "text": [
      "C:\\Users\\Jorge Segura\\Anaconda3\\envs\\DataPy37\\lib\\site-packages\\boruta\\boruta_py.py:384: DataConversionWarning: A column-vector y was passed when a 1d array was expected. Please change the shape of y to (n_samples,), for example using ravel().\n",
      "  self.estimator.fit(X, y)\n"
     ]
    },
    {
     "name": "stdout",
     "output_type": "stream",
     "text": [
      "Iteration: \t15 / 50\n",
      "Confirmed: \t41\n",
      "Tentative: \t37\n",
      "Rejected: \t46\n"
     ]
    },
    {
     "name": "stderr",
     "output_type": "stream",
     "text": [
      "C:\\Users\\Jorge Segura\\Anaconda3\\envs\\DataPy37\\lib\\site-packages\\boruta\\boruta_py.py:384: DataConversionWarning: A column-vector y was passed when a 1d array was expected. Please change the shape of y to (n_samples,), for example using ravel().\n",
      "  self.estimator.fit(X, y)\n"
     ]
    },
    {
     "name": "stdout",
     "output_type": "stream",
     "text": [
      "Iteration: \t16 / 50\n",
      "Confirmed: \t42\n",
      "Tentative: \t36\n",
      "Rejected: \t46\n"
     ]
    },
    {
     "name": "stderr",
     "output_type": "stream",
     "text": [
      "C:\\Users\\Jorge Segura\\Anaconda3\\envs\\DataPy37\\lib\\site-packages\\boruta\\boruta_py.py:384: DataConversionWarning: A column-vector y was passed when a 1d array was expected. Please change the shape of y to (n_samples,), for example using ravel().\n",
      "  self.estimator.fit(X, y)\n"
     ]
    },
    {
     "name": "stdout",
     "output_type": "stream",
     "text": [
      "Iteration: \t17 / 50\n",
      "Confirmed: \t42\n",
      "Tentative: \t33\n",
      "Rejected: \t49\n"
     ]
    },
    {
     "name": "stderr",
     "output_type": "stream",
     "text": [
      "C:\\Users\\Jorge Segura\\Anaconda3\\envs\\DataPy37\\lib\\site-packages\\boruta\\boruta_py.py:384: DataConversionWarning: A column-vector y was passed when a 1d array was expected. Please change the shape of y to (n_samples,), for example using ravel().\n",
      "  self.estimator.fit(X, y)\n"
     ]
    },
    {
     "name": "stdout",
     "output_type": "stream",
     "text": [
      "Iteration: \t18 / 50\n",
      "Confirmed: \t42\n",
      "Tentative: \t33\n",
      "Rejected: \t49\n"
     ]
    },
    {
     "name": "stderr",
     "output_type": "stream",
     "text": [
      "C:\\Users\\Jorge Segura\\Anaconda3\\envs\\DataPy37\\lib\\site-packages\\boruta\\boruta_py.py:384: DataConversionWarning: A column-vector y was passed when a 1d array was expected. Please change the shape of y to (n_samples,), for example using ravel().\n",
      "  self.estimator.fit(X, y)\n"
     ]
    },
    {
     "name": "stdout",
     "output_type": "stream",
     "text": [
      "Iteration: \t19 / 50\n",
      "Confirmed: \t42\n",
      "Tentative: \t28\n",
      "Rejected: \t54\n"
     ]
    },
    {
     "name": "stderr",
     "output_type": "stream",
     "text": [
      "C:\\Users\\Jorge Segura\\Anaconda3\\envs\\DataPy37\\lib\\site-packages\\boruta\\boruta_py.py:384: DataConversionWarning: A column-vector y was passed when a 1d array was expected. Please change the shape of y to (n_samples,), for example using ravel().\n",
      "  self.estimator.fit(X, y)\n"
     ]
    },
    {
     "name": "stdout",
     "output_type": "stream",
     "text": [
      "Iteration: \t20 / 50\n",
      "Confirmed: \t42\n",
      "Tentative: \t28\n",
      "Rejected: \t54\n"
     ]
    },
    {
     "name": "stderr",
     "output_type": "stream",
     "text": [
      "C:\\Users\\Jorge Segura\\Anaconda3\\envs\\DataPy37\\lib\\site-packages\\boruta\\boruta_py.py:384: DataConversionWarning: A column-vector y was passed when a 1d array was expected. Please change the shape of y to (n_samples,), for example using ravel().\n",
      "  self.estimator.fit(X, y)\n"
     ]
    },
    {
     "name": "stdout",
     "output_type": "stream",
     "text": [
      "Iteration: \t21 / 50\n",
      "Confirmed: \t42\n",
      "Tentative: \t28\n",
      "Rejected: \t54\n"
     ]
    },
    {
     "name": "stderr",
     "output_type": "stream",
     "text": [
      "C:\\Users\\Jorge Segura\\Anaconda3\\envs\\DataPy37\\lib\\site-packages\\boruta\\boruta_py.py:384: DataConversionWarning: A column-vector y was passed when a 1d array was expected. Please change the shape of y to (n_samples,), for example using ravel().\n",
      "  self.estimator.fit(X, y)\n"
     ]
    },
    {
     "name": "stdout",
     "output_type": "stream",
     "text": [
      "Iteration: \t22 / 50\n",
      "Confirmed: \t43\n",
      "Tentative: \t27\n",
      "Rejected: \t54\n"
     ]
    },
    {
     "name": "stderr",
     "output_type": "stream",
     "text": [
      "C:\\Users\\Jorge Segura\\Anaconda3\\envs\\DataPy37\\lib\\site-packages\\boruta\\boruta_py.py:384: DataConversionWarning: A column-vector y was passed when a 1d array was expected. Please change the shape of y to (n_samples,), for example using ravel().\n",
      "  self.estimator.fit(X, y)\n"
     ]
    },
    {
     "name": "stdout",
     "output_type": "stream",
     "text": [
      "Iteration: \t23 / 50\n",
      "Confirmed: \t43\n",
      "Tentative: \t27\n",
      "Rejected: \t54\n"
     ]
    },
    {
     "name": "stderr",
     "output_type": "stream",
     "text": [
      "C:\\Users\\Jorge Segura\\Anaconda3\\envs\\DataPy37\\lib\\site-packages\\boruta\\boruta_py.py:384: DataConversionWarning: A column-vector y was passed when a 1d array was expected. Please change the shape of y to (n_samples,), for example using ravel().\n",
      "  self.estimator.fit(X, y)\n"
     ]
    },
    {
     "name": "stdout",
     "output_type": "stream",
     "text": [
      "Iteration: \t24 / 50\n",
      "Confirmed: \t43\n",
      "Tentative: \t27\n",
      "Rejected: \t54\n"
     ]
    },
    {
     "name": "stderr",
     "output_type": "stream",
     "text": [
      "C:\\Users\\Jorge Segura\\Anaconda3\\envs\\DataPy37\\lib\\site-packages\\boruta\\boruta_py.py:384: DataConversionWarning: A column-vector y was passed when a 1d array was expected. Please change the shape of y to (n_samples,), for example using ravel().\n",
      "  self.estimator.fit(X, y)\n"
     ]
    },
    {
     "name": "stdout",
     "output_type": "stream",
     "text": [
      "Iteration: \t25 / 50\n",
      "Confirmed: \t43\n",
      "Tentative: \t26\n",
      "Rejected: \t55\n"
     ]
    },
    {
     "name": "stderr",
     "output_type": "stream",
     "text": [
      "C:\\Users\\Jorge Segura\\Anaconda3\\envs\\DataPy37\\lib\\site-packages\\boruta\\boruta_py.py:384: DataConversionWarning: A column-vector y was passed when a 1d array was expected. Please change the shape of y to (n_samples,), for example using ravel().\n",
      "  self.estimator.fit(X, y)\n"
     ]
    },
    {
     "name": "stdout",
     "output_type": "stream",
     "text": [
      "Iteration: \t26 / 50\n",
      "Confirmed: \t43\n",
      "Tentative: \t24\n",
      "Rejected: \t57\n"
     ]
    },
    {
     "name": "stderr",
     "output_type": "stream",
     "text": [
      "C:\\Users\\Jorge Segura\\Anaconda3\\envs\\DataPy37\\lib\\site-packages\\boruta\\boruta_py.py:384: DataConversionWarning: A column-vector y was passed when a 1d array was expected. Please change the shape of y to (n_samples,), for example using ravel().\n",
      "  self.estimator.fit(X, y)\n"
     ]
    },
    {
     "name": "stdout",
     "output_type": "stream",
     "text": [
      "Iteration: \t27 / 50\n",
      "Confirmed: \t43\n",
      "Tentative: \t24\n",
      "Rejected: \t57\n"
     ]
    },
    {
     "name": "stderr",
     "output_type": "stream",
     "text": [
      "C:\\Users\\Jorge Segura\\Anaconda3\\envs\\DataPy37\\lib\\site-packages\\boruta\\boruta_py.py:384: DataConversionWarning: A column-vector y was passed when a 1d array was expected. Please change the shape of y to (n_samples,), for example using ravel().\n",
      "  self.estimator.fit(X, y)\n"
     ]
    },
    {
     "name": "stdout",
     "output_type": "stream",
     "text": [
      "Iteration: \t28 / 50\n",
      "Confirmed: \t43\n",
      "Tentative: \t24\n",
      "Rejected: \t57\n"
     ]
    },
    {
     "name": "stderr",
     "output_type": "stream",
     "text": [
      "C:\\Users\\Jorge Segura\\Anaconda3\\envs\\DataPy37\\lib\\site-packages\\boruta\\boruta_py.py:384: DataConversionWarning: A column-vector y was passed when a 1d array was expected. Please change the shape of y to (n_samples,), for example using ravel().\n",
      "  self.estimator.fit(X, y)\n"
     ]
    },
    {
     "name": "stdout",
     "output_type": "stream",
     "text": [
      "Iteration: \t29 / 50\n",
      "Confirmed: \t43\n",
      "Tentative: \t24\n",
      "Rejected: \t57\n"
     ]
    },
    {
     "name": "stderr",
     "output_type": "stream",
     "text": [
      "C:\\Users\\Jorge Segura\\Anaconda3\\envs\\DataPy37\\lib\\site-packages\\boruta\\boruta_py.py:384: DataConversionWarning: A column-vector y was passed when a 1d array was expected. Please change the shape of y to (n_samples,), for example using ravel().\n",
      "  self.estimator.fit(X, y)\n"
     ]
    },
    {
     "name": "stdout",
     "output_type": "stream",
     "text": [
      "Iteration: \t30 / 50\n",
      "Confirmed: \t43\n",
      "Tentative: \t24\n",
      "Rejected: \t57\n"
     ]
    },
    {
     "name": "stderr",
     "output_type": "stream",
     "text": [
      "C:\\Users\\Jorge Segura\\Anaconda3\\envs\\DataPy37\\lib\\site-packages\\boruta\\boruta_py.py:384: DataConversionWarning: A column-vector y was passed when a 1d array was expected. Please change the shape of y to (n_samples,), for example using ravel().\n",
      "  self.estimator.fit(X, y)\n"
     ]
    },
    {
     "name": "stdout",
     "output_type": "stream",
     "text": [
      "Iteration: \t31 / 50\n",
      "Confirmed: \t43\n",
      "Tentative: \t24\n",
      "Rejected: \t57\n"
     ]
    },
    {
     "name": "stderr",
     "output_type": "stream",
     "text": [
      "C:\\Users\\Jorge Segura\\Anaconda3\\envs\\DataPy37\\lib\\site-packages\\boruta\\boruta_py.py:384: DataConversionWarning: A column-vector y was passed when a 1d array was expected. Please change the shape of y to (n_samples,), for example using ravel().\n",
      "  self.estimator.fit(X, y)\n"
     ]
    },
    {
     "name": "stdout",
     "output_type": "stream",
     "text": [
      "Iteration: \t32 / 50\n",
      "Confirmed: \t43\n",
      "Tentative: \t22\n",
      "Rejected: \t59\n"
     ]
    },
    {
     "name": "stderr",
     "output_type": "stream",
     "text": [
      "C:\\Users\\Jorge Segura\\Anaconda3\\envs\\DataPy37\\lib\\site-packages\\boruta\\boruta_py.py:384: DataConversionWarning: A column-vector y was passed when a 1d array was expected. Please change the shape of y to (n_samples,), for example using ravel().\n",
      "  self.estimator.fit(X, y)\n"
     ]
    },
    {
     "name": "stdout",
     "output_type": "stream",
     "text": [
      "Iteration: \t33 / 50\n",
      "Confirmed: \t43\n",
      "Tentative: \t22\n",
      "Rejected: \t59\n"
     ]
    },
    {
     "name": "stderr",
     "output_type": "stream",
     "text": [
      "C:\\Users\\Jorge Segura\\Anaconda3\\envs\\DataPy37\\lib\\site-packages\\boruta\\boruta_py.py:384: DataConversionWarning: A column-vector y was passed when a 1d array was expected. Please change the shape of y to (n_samples,), for example using ravel().\n",
      "  self.estimator.fit(X, y)\n"
     ]
    },
    {
     "name": "stdout",
     "output_type": "stream",
     "text": [
      "Iteration: \t34 / 50\n",
      "Confirmed: \t43\n",
      "Tentative: \t20\n",
      "Rejected: \t61\n"
     ]
    },
    {
     "name": "stderr",
     "output_type": "stream",
     "text": [
      "C:\\Users\\Jorge Segura\\Anaconda3\\envs\\DataPy37\\lib\\site-packages\\boruta\\boruta_py.py:384: DataConversionWarning: A column-vector y was passed when a 1d array was expected. Please change the shape of y to (n_samples,), for example using ravel().\n",
      "  self.estimator.fit(X, y)\n"
     ]
    },
    {
     "name": "stdout",
     "output_type": "stream",
     "text": [
      "Iteration: \t35 / 50\n",
      "Confirmed: \t43\n",
      "Tentative: \t20\n",
      "Rejected: \t61\n"
     ]
    },
    {
     "name": "stderr",
     "output_type": "stream",
     "text": [
      "C:\\Users\\Jorge Segura\\Anaconda3\\envs\\DataPy37\\lib\\site-packages\\boruta\\boruta_py.py:384: DataConversionWarning: A column-vector y was passed when a 1d array was expected. Please change the shape of y to (n_samples,), for example using ravel().\n",
      "  self.estimator.fit(X, y)\n"
     ]
    },
    {
     "name": "stdout",
     "output_type": "stream",
     "text": [
      "Iteration: \t36 / 50\n",
      "Confirmed: \t43\n",
      "Tentative: \t20\n",
      "Rejected: \t61\n"
     ]
    },
    {
     "name": "stderr",
     "output_type": "stream",
     "text": [
      "C:\\Users\\Jorge Segura\\Anaconda3\\envs\\DataPy37\\lib\\site-packages\\boruta\\boruta_py.py:384: DataConversionWarning: A column-vector y was passed when a 1d array was expected. Please change the shape of y to (n_samples,), for example using ravel().\n",
      "  self.estimator.fit(X, y)\n"
     ]
    },
    {
     "name": "stdout",
     "output_type": "stream",
     "text": [
      "Iteration: \t37 / 50\n",
      "Confirmed: \t43\n",
      "Tentative: \t20\n",
      "Rejected: \t61\n"
     ]
    },
    {
     "name": "stderr",
     "output_type": "stream",
     "text": [
      "C:\\Users\\Jorge Segura\\Anaconda3\\envs\\DataPy37\\lib\\site-packages\\boruta\\boruta_py.py:384: DataConversionWarning: A column-vector y was passed when a 1d array was expected. Please change the shape of y to (n_samples,), for example using ravel().\n",
      "  self.estimator.fit(X, y)\n"
     ]
    },
    {
     "name": "stdout",
     "output_type": "stream",
     "text": [
      "Iteration: \t38 / 50\n",
      "Confirmed: \t43\n",
      "Tentative: \t20\n",
      "Rejected: \t61\n"
     ]
    },
    {
     "name": "stderr",
     "output_type": "stream",
     "text": [
      "C:\\Users\\Jorge Segura\\Anaconda3\\envs\\DataPy37\\lib\\site-packages\\boruta\\boruta_py.py:384: DataConversionWarning: A column-vector y was passed when a 1d array was expected. Please change the shape of y to (n_samples,), for example using ravel().\n",
      "  self.estimator.fit(X, y)\n"
     ]
    },
    {
     "name": "stdout",
     "output_type": "stream",
     "text": [
      "Iteration: \t39 / 50\n",
      "Confirmed: \t43\n",
      "Tentative: \t19\n",
      "Rejected: \t62\n"
     ]
    },
    {
     "name": "stderr",
     "output_type": "stream",
     "text": [
      "C:\\Users\\Jorge Segura\\Anaconda3\\envs\\DataPy37\\lib\\site-packages\\boruta\\boruta_py.py:384: DataConversionWarning: A column-vector y was passed when a 1d array was expected. Please change the shape of y to (n_samples,), for example using ravel().\n",
      "  self.estimator.fit(X, y)\n"
     ]
    },
    {
     "name": "stdout",
     "output_type": "stream",
     "text": [
      "Iteration: \t40 / 50\n",
      "Confirmed: \t43\n",
      "Tentative: \t17\n",
      "Rejected: \t64\n"
     ]
    },
    {
     "name": "stderr",
     "output_type": "stream",
     "text": [
      "C:\\Users\\Jorge Segura\\Anaconda3\\envs\\DataPy37\\lib\\site-packages\\boruta\\boruta_py.py:384: DataConversionWarning: A column-vector y was passed when a 1d array was expected. Please change the shape of y to (n_samples,), for example using ravel().\n",
      "  self.estimator.fit(X, y)\n"
     ]
    },
    {
     "name": "stdout",
     "output_type": "stream",
     "text": [
      "Iteration: \t41 / 50\n",
      "Confirmed: \t43\n",
      "Tentative: \t17\n",
      "Rejected: \t64\n"
     ]
    },
    {
     "name": "stderr",
     "output_type": "stream",
     "text": [
      "C:\\Users\\Jorge Segura\\Anaconda3\\envs\\DataPy37\\lib\\site-packages\\boruta\\boruta_py.py:384: DataConversionWarning: A column-vector y was passed when a 1d array was expected. Please change the shape of y to (n_samples,), for example using ravel().\n",
      "  self.estimator.fit(X, y)\n"
     ]
    },
    {
     "name": "stdout",
     "output_type": "stream",
     "text": [
      "Iteration: \t42 / 50\n",
      "Confirmed: \t43\n",
      "Tentative: \t17\n",
      "Rejected: \t64\n"
     ]
    },
    {
     "name": "stderr",
     "output_type": "stream",
     "text": [
      "C:\\Users\\Jorge Segura\\Anaconda3\\envs\\DataPy37\\lib\\site-packages\\boruta\\boruta_py.py:384: DataConversionWarning: A column-vector y was passed when a 1d array was expected. Please change the shape of y to (n_samples,), for example using ravel().\n",
      "  self.estimator.fit(X, y)\n"
     ]
    },
    {
     "name": "stdout",
     "output_type": "stream",
     "text": [
      "Iteration: \t43 / 50\n",
      "Confirmed: \t43\n",
      "Tentative: \t17\n",
      "Rejected: \t64\n"
     ]
    },
    {
     "name": "stderr",
     "output_type": "stream",
     "text": [
      "C:\\Users\\Jorge Segura\\Anaconda3\\envs\\DataPy37\\lib\\site-packages\\boruta\\boruta_py.py:384: DataConversionWarning: A column-vector y was passed when a 1d array was expected. Please change the shape of y to (n_samples,), for example using ravel().\n",
      "  self.estimator.fit(X, y)\n"
     ]
    },
    {
     "name": "stdout",
     "output_type": "stream",
     "text": [
      "Iteration: \t44 / 50\n",
      "Confirmed: \t43\n",
      "Tentative: \t17\n",
      "Rejected: \t64\n"
     ]
    },
    {
     "name": "stderr",
     "output_type": "stream",
     "text": [
      "C:\\Users\\Jorge Segura\\Anaconda3\\envs\\DataPy37\\lib\\site-packages\\boruta\\boruta_py.py:384: DataConversionWarning: A column-vector y was passed when a 1d array was expected. Please change the shape of y to (n_samples,), for example using ravel().\n",
      "  self.estimator.fit(X, y)\n"
     ]
    },
    {
     "name": "stdout",
     "output_type": "stream",
     "text": [
      "Iteration: \t45 / 50\n",
      "Confirmed: \t43\n",
      "Tentative: \t17\n",
      "Rejected: \t64\n"
     ]
    },
    {
     "name": "stderr",
     "output_type": "stream",
     "text": [
      "C:\\Users\\Jorge Segura\\Anaconda3\\envs\\DataPy37\\lib\\site-packages\\boruta\\boruta_py.py:384: DataConversionWarning: A column-vector y was passed when a 1d array was expected. Please change the shape of y to (n_samples,), for example using ravel().\n",
      "  self.estimator.fit(X, y)\n"
     ]
    },
    {
     "name": "stdout",
     "output_type": "stream",
     "text": [
      "Iteration: \t46 / 50\n",
      "Confirmed: \t43\n",
      "Tentative: \t16\n",
      "Rejected: \t65\n"
     ]
    },
    {
     "name": "stderr",
     "output_type": "stream",
     "text": [
      "C:\\Users\\Jorge Segura\\Anaconda3\\envs\\DataPy37\\lib\\site-packages\\boruta\\boruta_py.py:384: DataConversionWarning: A column-vector y was passed when a 1d array was expected. Please change the shape of y to (n_samples,), for example using ravel().\n",
      "  self.estimator.fit(X, y)\n"
     ]
    },
    {
     "name": "stdout",
     "output_type": "stream",
     "text": [
      "Iteration: \t47 / 50\n",
      "Confirmed: \t43\n",
      "Tentative: \t16\n",
      "Rejected: \t65\n"
     ]
    },
    {
     "name": "stderr",
     "output_type": "stream",
     "text": [
      "C:\\Users\\Jorge Segura\\Anaconda3\\envs\\DataPy37\\lib\\site-packages\\boruta\\boruta_py.py:384: DataConversionWarning: A column-vector y was passed when a 1d array was expected. Please change the shape of y to (n_samples,), for example using ravel().\n",
      "  self.estimator.fit(X, y)\n"
     ]
    },
    {
     "name": "stdout",
     "output_type": "stream",
     "text": [
      "Iteration: \t48 / 50\n",
      "Confirmed: \t43\n",
      "Tentative: \t16\n",
      "Rejected: \t65\n"
     ]
    },
    {
     "name": "stderr",
     "output_type": "stream",
     "text": [
      "C:\\Users\\Jorge Segura\\Anaconda3\\envs\\DataPy37\\lib\\site-packages\\boruta\\boruta_py.py:384: DataConversionWarning: A column-vector y was passed when a 1d array was expected. Please change the shape of y to (n_samples,), for example using ravel().\n",
      "  self.estimator.fit(X, y)\n"
     ]
    },
    {
     "name": "stdout",
     "output_type": "stream",
     "text": [
      "Iteration: \t49 / 50\n",
      "Confirmed: \t43\n",
      "Tentative: \t15\n",
      "Rejected: \t66\n",
      "\n",
      "\n",
      "BorutaPy finished running.\n",
      "\n",
      "Iteration: \t50 / 50\n",
      "Confirmed: \t43\n",
      "Tentative: \t2\n",
      "Rejected: \t66\n"
     ]
    },
    {
     "data": {
      "text/plain": [
       "BorutaPy(alpha=0.05,\n",
       "         estimator=RandomForestClassifier(bootstrap=True, ccp_alpha=0.0,\n",
       "                                          class_weight='balanced',\n",
       "                                          criterion='gini', max_depth=5,\n",
       "                                          max_features='auto',\n",
       "                                          max_leaf_nodes=None, max_samples=None,\n",
       "                                          min_impurity_decrease=0.0,\n",
       "                                          min_impurity_split=None,\n",
       "                                          min_samples_leaf=1,\n",
       "                                          min_samples_split=2,\n",
       "                                          min_weight_fraction_leaf=0.0,\n",
       "                                          n_estimators=217, n_jobs=-1,\n",
       "                                          oob_score=False,\n",
       "                                          random_state=RandomState(MT19937) at 0x3F0930E048,\n",
       "                                          verbose=0, warm_start=False),\n",
       "         max_iter=50, n_estimators='auto', perc=90,\n",
       "         random_state=RandomState(MT19937) at 0x3F0930E048, two_step=True,\n",
       "         verbose=2)"
      ]
     },
     "execution_count": 47,
     "metadata": {},
     "output_type": "execute_result"
    }
   ],
   "source": [
    "boruta_feature_selector = boruta_py.BorutaPy(rf, n_estimators='auto', verbose=2, random_state=4242, max_iter = 50, perc = 90)\n",
    "boruta_feature_selector.fit(train_x_b, train_y_b)"
   ]
  },
  {
   "cell_type": "code",
   "execution_count": 48,
   "metadata": {},
   "outputs": [
    {
     "data": {
      "text/plain": [
       "array([ True, False, False,  True, False, False, False, False, False,\n",
       "       False, False, False, False, False,  True, False, False,  True,\n",
       "       False, False, False, False, False, False, False, False, False,\n",
       "       False, False, False, False, False, False, False, False, False,\n",
       "       False,  True,  True,  True, False,  True,  True, False, False,\n",
       "        True, False,  True,  True,  True,  True,  True,  True,  True,\n",
       "        True,  True,  True,  True, False, False,  True, False, False,\n",
       "       False,  True,  True, False,  True, False, False, False, False,\n",
       "        True,  True,  True,  True, False,  True, False, False,  True,\n",
       "        True, False, False,  True,  True, False, False,  True,  True,\n",
       "        True, False, False, False, False, False, False,  True, False,\n",
       "       False,  True, False, False, False, False, False, False, False,\n",
       "        True,  True, False, False, False, False, False, False, False,\n",
       "       False, False, False, False, False,  True,  True])"
      ]
     },
     "execution_count": 48,
     "metadata": {},
     "output_type": "execute_result"
    }
   ],
   "source": [
    "boruta_feature_selector.support_"
   ]
  },
  {
   "cell_type": "code",
   "execution_count": 49,
   "metadata": {},
   "outputs": [
    {
     "name": "stdout",
     "output_type": "stream",
     "text": [
      "['P0R1', 'P0B2', 'P1P1H', 'P1P1K', 'P3', 'P4', 'P5', 'P7', 'P8', 'P12A_1', 'P14A1', 'P14A2', 'P14A3', 'P14A4', 'P14A5', 'P14A6', 'P14A7', 'P14A8', 'P14A9', 'P14A10', 'P14A11', 'P14A14', 'P15A', 'P16A', 'P17P17B', 'P17P17G', 'P17P17H', 'P17P17I', 'P18A', 'P18C', 'P22', 'P24', 'P25P25C', 'P25P25D', 'P25P25G', 'P25P25H', 'P25P25I', 'P32', 'P35', 'P38SP8', 'P38SP9', 'PESO', 'PESO1']\n"
     ]
    }
   ],
   "source": [
    "final_features = list()\n",
    "indexes = np.where(boruta_feature_selector.support_ == True)\n",
    "for x in np.nditer(indexes):\n",
    "    final_features.append(predictores[x])\n",
    "print(final_features)"
   ]
  },
  {
   "cell_type": "code",
   "execution_count": 50,
   "metadata": {},
   "outputs": [
    {
     "data": {
      "text/plain": [
       "43"
      ]
     },
     "execution_count": 50,
     "metadata": {},
     "output_type": "execute_result"
    }
   ],
   "source": [
    "len(boruta_feature_selector.ranking_[boruta_feature_selector.support_ == True])"
   ]
  },
  {
   "cell_type": "code",
   "execution_count": 51,
   "metadata": {},
   "outputs": [
    {
     "name": "stdout",
     "output_type": "stream",
     "text": [
      "    variables  ranking\n",
      "0        P0R1        1\n",
      "60     P14A14        1\n",
      "57     P14A11        1\n",
      "56     P14A10        1\n",
      "55      P14A9        1\n",
      "54      P14A8        1\n",
      "53      P14A7        1\n",
      "52      P14A6        1\n",
      "51      P14A5        1\n",
      "50      P14A4        1\n",
      "49      P14A3        1\n",
      "48      P14A2        1\n",
      "47      P14A1        1\n",
      "45     P12A_1        1\n",
      "42         P8        1\n",
      "41         P7        1\n",
      "122      PESO        1\n",
      "64       P15A        1\n",
      "65       P16A        1\n",
      "67    P17P17B        1\n",
      "109    P38SP9        1\n",
      "108    P38SP8        1\n",
      "100       P35        1\n",
      "97        P32        1\n",
      "90    P25P25I        1\n",
      "89    P25P25H        1\n",
      "88    P25P25G        1\n",
      "39         P5        1\n",
      "85    P25P25D        1\n",
      "81        P24        1\n",
      "80        P22        1\n",
      "77       P18C        1\n",
      "75       P18A        1\n",
      "74    P17P17I        1\n",
      "73    P17P17H        1\n",
      "72    P17P17G        1\n",
      "84    P25P25C        1\n",
      "38         P4        1\n",
      "123     PESO1        1\n",
      "37         P3        1\n",
      "14      P1P1H        1\n",
      "3        P0B2        1\n",
      "17      P1P1K        1\n",
      "86    P25P25E        2\n",
      "69    P17P17D        2\n",
      "71    P17P17F        3\n",
      "12      P1P1F        4\n",
      "40         P6        5\n",
      "68    P17P17C        5\n",
      "1         P0B        7\n",
      "93        P28        8\n",
      "58     P14A12        8\n",
      "105    P38SP5       11\n",
      "91    P25P25J       11\n",
      "76       P18B       11\n",
      "107    P38SP7       11\n",
      "113       P46       15\n",
      "83    P25P25B       15\n",
      "32      P2P2K       15\n",
      "19      P1P1M       17\n",
      "70    P17P17E       17\n",
      "33      P2P2L       20\n",
      "7       P1P1A       20\n",
      "104    P38SP4       20\n",
      "94        P29       22\n",
      "102    P38SP2       23\n",
      "18      P1P1L       24\n",
      "95        P30       24\n",
      "44        P11       26\n",
      "106    P38SP6       27\n",
      "117       DB4       28\n",
      "118       DB5       29\n",
      "87    P25P25F       31\n",
      "46        P13       31\n",
      "98        P33       31\n",
      "31      P2P2J       33\n",
      "13      P1P1G       34\n",
      "63     P14A17       35\n",
      "66    P17P17A       36\n",
      "9       P1P1C       37\n",
      "8       P1P1B       38\n",
      "121       DB8       39\n",
      "119       DB6       40\n",
      "82    P25P25A       41\n",
      "11      P1P1E       42\n",
      "103    P38SP3       43\n",
      "116       DB3       44\n",
      "4         P0C       45\n",
      "34      P2P2M       46\n",
      "99        P34       46\n",
      "2        POB1       48\n",
      "43         P9       49\n",
      "114       DB0       50\n",
      "115       DB1       51\n",
      "10      P1P1D       52\n",
      "15      P1P1I       53\n",
      "30      P2P2I       54\n",
      "79        P21       55\n",
      "78        P20       56\n",
      "101    P38SP1       57\n",
      "21      P1P1O       58\n",
      "59     P14A13       59\n",
      "6        POF2       60\n",
      "92        P26       61\n",
      "112       P43       61\n",
      "29      P2P2H       63\n",
      "36      P2P2O       64\n",
      "25      P2P2D       65\n",
      "96        P31       66\n",
      "20      P1P1N       67\n",
      "16      P1P1J       69\n",
      "62     P14A16       69\n",
      "110       P39       69\n",
      "111       P41       71\n",
      "28      P2P2G       72\n",
      "23      P2P2B       73\n",
      "27      P2P2F       74\n",
      "120       DB7       75\n",
      "24      P2P2C       76\n",
      "22      P2P2A       77\n",
      "26      P2P2E       78\n",
      "35      P2P2N       79\n",
      "61     P14A15       80\n",
      "5        P0F1       81\n"
     ]
    }
   ],
   "source": [
    "# Las que están en el \"1\" son las aceptadas por Boruta\n",
    "importancia_boruta= pd.DataFrame()\n",
    "importancia_boruta['variables']= predictores\n",
    "importancia_boruta['ranking']= boruta_feature_selector.ranking_\n",
    "importancia_boruta = importancia_boruta.sort_values('ranking')\n",
    "with pd.option_context('display.max_rows', None, 'display.max_columns', None):\n",
    "    print(importancia_boruta)"
   ]
  },
  {
   "cell_type": "code",
   "execution_count": null,
   "metadata": {},
   "outputs": [],
   "source": []
  }
 ],
 "metadata": {
  "kernelspec": {
   "display_name": "Python 3",
   "language": "python",
   "name": "python3"
  },
  "language_info": {
   "codemirror_mode": {
    "name": "ipython",
    "version": 3
   },
   "file_extension": ".py",
   "mimetype": "text/x-python",
   "name": "python",
   "nbconvert_exporter": "python",
   "pygments_lexer": "ipython3",
   "version": "3.7.6"
  }
 },
 "nbformat": 4,
 "nbformat_minor": 4
}
